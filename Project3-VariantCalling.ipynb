{
 "cells": [
  {
   "cell_type": "markdown",
   "id": "f13fe33e",
   "metadata": {},
   "source": [
    "![logo-gt.png](attachment:logo-gt.png)"
   ]
  },
  {
   "cell_type": "markdown",
   "id": "e53587e1",
   "metadata": {},
   "source": [
    "<div class=\"alert alert-block alert-info\">\n",
    "    <h1>BIOS 4150/BIOL 6150</h1>\n",
    "    <h3>Instructor: Dr. King Jordan</h3>\n",
    "    <p>TAs: Shivam Sharma (shivamsharma13@gatech.edu) & Vishva Natarajan (vishvanata@gatech.edu)</p>\n",
    "</div>"
   ]
  },
  {
   "cell_type": "markdown",
   "id": "4c342f3f",
   "metadata": {},
   "source": [
    "<div class=\"alert alert-block alert-warning\">\n",
    "    <h2>Project 3 (Variant Calling) starter notebook</h2>\n",
    "    <h3>Deadline: 11:59PM, November 6th, 2023</h3>\n",
    "</div>"
   ]
  },
  {
   "cell_type": "markdown",
   "id": "e3f25848",
   "metadata": {},
   "source": [
    "<div class=\"alert alert-block alert-danger\">\n",
    "    <h2>Alert!</h2>\n",
    "    <p>Do not delete any comments or information boxes the starter notebook comes with</p>\n",
    "</div>"
   ]
  },
  {
   "cell_type": "markdown",
   "id": "879a14ff",
   "metadata": {},
   "source": [
    "---"
   ]
  },
  {
   "cell_type": "markdown",
   "id": "f404ae11",
   "metadata": {},
   "source": [
    "# **1. Getting ready for variant calling**\n",
    "### *Total Questions: 6*\n",
    "### *Total Points: 5 + 5 + 30 + 45 + 20 + 45 = 150*\n",
    "\n",
    "\n",
    "---"
   ]
  },
  {
   "cell_type": "markdown",
   "id": "69ff09a1",
   "metadata": {},
   "source": [
    "<div class=\"alert alert-block alert-warning\">\n",
    "    <h3>1.1 Check your SAM file</h3>\n",
    "    <p>We will start from where we left off in Project #2. We want to make sure that we are using the corrent SAM file.</p>\n",
    "</div>"
   ]
  },
  {
   "cell_type": "code",
   "execution_count": 2,
   "id": "51df61f4",
   "metadata": {},
   "outputs": [
    {
     "name": "stdout",
     "output_type": "stream",
     "text": [
      "-rw-r--r-- 1 akrishna311 gtperson 15G Oct 27 19:06 /home/hice1/akrishna311/scratch/project/project2/SRR070501_Minimap.sam\r\n"
     ]
    }
   ],
   "source": [
    "#Check you SAM file here.\n",
    "!ls -lh ~/scratch/project/project2/SRR070501_Minimap.sam"
   ]
  },
  {
   "cell_type": "code",
   "execution_count": 3,
   "id": "f04a0758",
   "metadata": {},
   "outputs": [],
   "source": [
    "# create directory for this project and copy required SAM and BAM files into the directory\n",
    "!mkdir -p ~/scratch/project/project3\n",
    "!cp ~/scratch/project/project2/*am ~/scratch/project/project3"
   ]
  },
  {
   "cell_type": "code",
   "execution_count": 5,
   "id": "46221522",
   "metadata": {},
   "outputs": [
    {
     "name": "stdout",
     "output_type": "stream",
     "text": [
      "total 17G\r\n",
      "-rw-r--r-- 1 akrishna311 gtperson 2.8G Nov  1 16:42 SRR070501_Minimap.bam\r\n",
      "-rw-r--r-- 1 akrishna311 gtperson  15G Nov  1 16:42 SRR070501_Minimap.sam\r\n"
     ]
    }
   ],
   "source": [
    "# Check the files in the directory\n",
    "!ls -lh ~/scratch/project/project3"
   ]
  },
  {
   "cell_type": "markdown",
   "id": "486429a7",
   "metadata": {},
   "source": [
    "<div class=\"alert alert-block alert-warning\">\n",
    "    <h3>1.2 Check your SAM file</h3>\n",
    "    <p>Show that your SAM file is sorted</p>\n",
    "</div>"
   ]
  },
  {
   "cell_type": "code",
   "execution_count": 7,
   "id": "d2a6a8f4",
   "metadata": {},
   "outputs": [
    {
     "name": "stdout",
     "output_type": "stream",
     "text": [
      "@HD\tVN:1.6\tSO:coordinate\r\n",
      "@SQ\tSN:NC_000001.11\tLN:248956422\r\n",
      "@SQ\tSN:NT_187361.1\tLN:175055\r\n",
      "@SQ\tSN:NT_187362.1\tLN:32032\r\n",
      "@SQ\tSN:NT_187363.1\tLN:127682\r\n",
      "@SQ\tSN:NT_187364.1\tLN:66860\r\n",
      "@SQ\tSN:NT_187365.1\tLN:40176\r\n",
      "@SQ\tSN:NT_187366.1\tLN:42210\r\n",
      "@SQ\tSN:NT_187367.1\tLN:176043\r\n",
      "@SQ\tSN:NT_187368.1\tLN:40745\r\n"
     ]
    }
   ],
   "source": [
    "#Show that your SAM file is sorted by genomic coordinates.\n",
    "!samtools view -H ~/scratch/project/project3/SRR070501_Minimap.sam | head "
   ]
  },
  {
   "cell_type": "markdown",
   "id": "a3e2f758",
   "metadata": {},
   "source": [
    "###### <code>SO:coordinate</code> - this means the SAM file is sorted by genomic co-ordinates"
   ]
  },
  {
   "cell_type": "code",
   "execution_count": 8,
   "id": "6366633c",
   "metadata": {},
   "outputs": [
    {
     "name": "stdout",
     "output_type": "stream",
     "text": [
      "@HD\tVN:1.6\tSO:coordinate\r\n",
      "@SQ\tSN:NC_000001.11\tLN:248956422\r\n",
      "@SQ\tSN:NT_187361.1\tLN:175055\r\n",
      "@SQ\tSN:NT_187362.1\tLN:32032\r\n",
      "@SQ\tSN:NT_187363.1\tLN:127682\r\n",
      "@SQ\tSN:NT_187364.1\tLN:66860\r\n",
      "@SQ\tSN:NT_187365.1\tLN:40176\r\n",
      "@SQ\tSN:NT_187366.1\tLN:42210\r\n",
      "@SQ\tSN:NT_187367.1\tLN:176043\r\n",
      "@SQ\tSN:NT_187368.1\tLN:40745\r\n",
      "@SQ\tSN:NT_187369.1\tLN:41717\r\n",
      "@SQ\tSN:NC_000002.12\tLN:242193529\r\n",
      "@SQ\tSN:NT_187370.1\tLN:161471\r\n",
      "@SQ\tSN:NT_187371.1\tLN:153799\r\n",
      "@SQ\tSN:NC_000003.12\tLN:198295559\r\n",
      "@SQ\tSN:NT_167215.1\tLN:155397\r\n",
      "@SQ\tSN:NC_000004.12\tLN:190214555\r\n",
      "@SQ\tSN:NT_113793.3\tLN:209709\r\n",
      "@SQ\tSN:NC_000005.10\tLN:181538259\r\n",
      "@SQ\tSN:NT_113948.1\tLN:92689\r\n",
      "@SQ\tSN:NC_000006.12\tLN:170805979\r\n",
      "@SQ\tSN:NC_000007.14\tLN:159345973\r\n",
      "@SQ\tSN:NC_000008.11\tLN:145138636\r\n",
      "@SQ\tSN:NC_000009.12\tLN:138394717\r\n",
      "@SQ\tSN:NT_187372.1\tLN:40062\r\n",
      "@SQ\tSN:NT_187373.1\tLN:38054\r\n",
      "@SQ\tSN:NT_187374.1\tLN:176845\r\n",
      "@SQ\tSN:NT_187375.1\tLN:39050\r\n",
      "@SQ\tSN:NC_000010.11\tLN:133797422\r\n",
      "@SQ\tSN:NC_000011.10\tLN:135086622\r\n",
      "@SQ\tSN:NC_000012.12\tLN:133275309\r\n",
      "@SQ\tSN:NC_000013.11\tLN:114364328\r\n",
      "@SQ\tSN:NC_000014.9\tLN:107043718\r\n",
      "@SQ\tSN:NT_113796.3\tLN:201709\r\n",
      "@SQ\tSN:NT_167219.1\tLN:211173\r\n",
      "@SQ\tSN:NT_187377.1\tLN:194050\r\n",
      "@SQ\tSN:NT_113888.1\tLN:191469\r\n",
      "@SQ\tSN:NT_187378.1\tLN:38115\r\n",
      "@SQ\tSN:NT_187379.1\tLN:39555\r\n",
      "@SQ\tSN:NT_187380.1\tLN:172810\r\n",
      "@SQ\tSN:NT_187381.1\tLN:43739\r\n",
      "@SQ\tSN:NC_000015.10\tLN:101991189\r\n",
      "@SQ\tSN:NT_187382.1\tLN:448248\r\n",
      "@SQ\tSN:NC_000016.10\tLN:90338345\r\n",
      "@SQ\tSN:NT_187383.1\tLN:1872759\r\n",
      "@SQ\tSN:NC_000017.11\tLN:83257441\r\n",
      "@SQ\tSN:NT_113930.2\tLN:185591\r\n",
      "@SQ\tSN:NT_187384.1\tLN:280839\r\n",
      "@SQ\tSN:NT_187385.1\tLN:112551\r\n",
      "@SQ\tSN:NC_000018.10\tLN:80373285\r\n",
      "@SQ\tSN:NC_000019.10\tLN:58617616\r\n",
      "@SQ\tSN:NC_000020.11\tLN:64444167\r\n",
      "@SQ\tSN:NC_000021.9\tLN:46709983\r\n",
      "@SQ\tSN:NC_000022.11\tLN:50818468\r\n",
      "@SQ\tSN:NT_187386.1\tLN:150754\r\n",
      "@SQ\tSN:NT_187387.1\tLN:41543\r\n",
      "@SQ\tSN:NT_187388.1\tLN:179772\r\n",
      "@SQ\tSN:NT_187390.1\tLN:42811\r\n",
      "@SQ\tSN:NT_187391.1\tLN:181920\r\n",
      "@SQ\tSN:NT_187392.1\tLN:103838\r\n",
      "@SQ\tSN:NT_187393.1\tLN:99375\r\n",
      "@SQ\tSN:NT_187394.1\tLN:73985\r\n",
      "@SQ\tSN:NC_000023.11\tLN:156040895\r\n",
      "@SQ\tSN:NC_000024.10\tLN:57227415\r\n",
      "@SQ\tSN:NT_187395.1\tLN:37240\r\n",
      "@SQ\tSN:NT_187396.1\tLN:2274\r\n",
      "@SQ\tSN:NT_187397.1\tLN:2165\r\n",
      "@SQ\tSN:NT_187398.1\tLN:1942\r\n",
      "@SQ\tSN:NT_187399.1\tLN:1472\r\n",
      "@SQ\tSN:NT_187400.1\tLN:21476\r\n",
      "@SQ\tSN:NT_187401.1\tLN:4416\r\n",
      "@SQ\tSN:NT_187402.1\tLN:1201\r\n",
      "@SQ\tSN:NT_187403.1\tLN:1444\r\n",
      "@SQ\tSN:NT_187404.1\tLN:2276\r\n",
      "@SQ\tSN:NT_187405.1\tLN:998\r\n",
      "@SQ\tSN:NT_187406.1\tLN:12399\r\n",
      "@SQ\tSN:NT_187407.1\tLN:37690\r\n",
      "@SQ\tSN:NT_187408.1\tLN:1179\r\n",
      "@SQ\tSN:NT_187409.1\tLN:2646\r\n",
      "@SQ\tSN:NT_187410.1\tLN:2489\r\n",
      "@SQ\tSN:NT_187411.1\tLN:1029\r\n",
      "@SQ\tSN:NT_187412.1\tLN:2145\r\n",
      "@SQ\tSN:NT_187413.1\tLN:2321\r\n",
      "@SQ\tSN:NT_187414.1\tLN:2140\r\n",
      "@SQ\tSN:NT_187415.1\tLN:2043\r\n",
      "@SQ\tSN:NT_187416.1\tLN:1445\r\n",
      "@SQ\tSN:NT_187417.1\tLN:981\r\n",
      "@SQ\tSN:NT_187418.1\tLN:1884\r\n",
      "@SQ\tSN:NT_187419.1\tLN:1361\r\n",
      "@SQ\tSN:NT_187420.1\tLN:392061\r\n",
      "@SQ\tSN:NT_187421.1\tLN:1233\r\n",
      "@SQ\tSN:NT_187422.1\tLN:1774\r\n",
      "@SQ\tSN:NT_187423.1\tLN:3920\r\n",
      "@SQ\tSN:NT_187424.1\tLN:92983\r\n",
      "@SQ\tSN:NT_187425.1\tLN:112505\r\n",
      "@SQ\tSN:NT_187426.1\tLN:4055\r\n",
      "@SQ\tSN:NT_187427.1\tLN:2415\r\n",
      "@SQ\tSN:NT_187428.1\tLN:2318\r\n",
      "@SQ\tSN:NT_187429.1\tLN:2186\r\n",
      "@SQ\tSN:NT_187430.1\tLN:1951\r\n",
      "@SQ\tSN:NT_187431.1\tLN:1300\r\n",
      "@SQ\tSN:NT_187432.1\tLN:22689\r\n",
      "@SQ\tSN:NT_187433.1\tLN:138126\r\n",
      "@SQ\tSN:NT_187434.1\tLN:5674\r\n",
      "@SQ\tSN:NT_187435.1\tLN:8127\r\n",
      "@SQ\tSN:NT_187436.1\tLN:6361\r\n",
      "@SQ\tSN:NT_187437.1\tLN:5353\r\n",
      "@SQ\tSN:NT_187438.1\tLN:3253\r\n",
      "@SQ\tSN:NT_187439.1\tLN:1899\r\n",
      "@SQ\tSN:NT_187440.1\tLN:2983\r\n",
      "@SQ\tSN:NT_187441.1\tLN:2168\r\n",
      "@SQ\tSN:NT_187442.1\tLN:993\r\n",
      "@SQ\tSN:NT_187443.1\tLN:91309\r\n",
      "@SQ\tSN:NT_187444.1\tLN:1202\r\n",
      "@SQ\tSN:NT_187445.1\tLN:1599\r\n",
      "@SQ\tSN:NT_187446.1\tLN:1400\r\n",
      "@SQ\tSN:NT_187447.1\tLN:2969\r\n",
      "@SQ\tSN:NT_187448.1\tLN:1553\r\n",
      "@SQ\tSN:NT_187449.1\tLN:7046\r\n",
      "@SQ\tSN:NT_187450.1\tLN:31033\r\n",
      "@SQ\tSN:NT_187451.1\tLN:44474\r\n",
      "@SQ\tSN:NT_187452.1\tLN:4685\r\n",
      "@SQ\tSN:NT_187453.1\tLN:4513\r\n",
      "@SQ\tSN:NT_187454.1\tLN:6504\r\n",
      "@SQ\tSN:NT_187455.1\tLN:6158\r\n",
      "@SQ\tSN:NT_187456.1\tLN:3041\r\n",
      "@SQ\tSN:NT_187457.1\tLN:5796\r\n",
      "@SQ\tSN:NT_187458.1\tLN:1652\r\n",
      "@SQ\tSN:NT_187459.1\tLN:1040\r\n",
      "@SQ\tSN:NT_187460.1\tLN:1368\r\n",
      "@SQ\tSN:NT_187461.1\tLN:2699\r\n",
      "@SQ\tSN:NT_187462.1\tLN:1048\r\n",
      "@SQ\tSN:NT_187463.1\tLN:1428\r\n",
      "@SQ\tSN:NT_187464.1\tLN:1428\r\n",
      "@SQ\tSN:NT_187465.1\tLN:1026\r\n",
      "@SQ\tSN:NT_187466.1\tLN:1121\r\n",
      "@SQ\tSN:NT_187467.1\tLN:1803\r\n",
      "@SQ\tSN:NT_187468.1\tLN:2855\r\n",
      "@SQ\tSN:NT_187469.1\tLN:3530\r\n",
      "@SQ\tSN:NT_187470.1\tLN:8320\r\n",
      "@SQ\tSN:NT_187471.1\tLN:1048\r\n",
      "@SQ\tSN:NT_187472.1\tLN:1045\r\n",
      "@SQ\tSN:NT_187473.1\tLN:1298\r\n",
      "@SQ\tSN:NT_187474.1\tLN:2387\r\n",
      "@SQ\tSN:NT_187475.1\tLN:1537\r\n",
      "@SQ\tSN:NT_187476.1\tLN:1143\r\n",
      "@SQ\tSN:NT_187477.1\tLN:1880\r\n",
      "@SQ\tSN:NT_187478.1\tLN:1216\r\n",
      "@SQ\tSN:NT_187479.1\tLN:970\r\n",
      "@SQ\tSN:NT_187480.1\tLN:1788\r\n",
      "@SQ\tSN:NT_187481.1\tLN:1484\r\n",
      "@SQ\tSN:NT_187482.1\tLN:1750\r\n",
      "@SQ\tSN:NT_187483.1\tLN:1308\r\n",
      "@SQ\tSN:NT_187484.1\tLN:1658\r\n",
      "@SQ\tSN:NT_187485.1\tLN:971\r\n",
      "@SQ\tSN:NT_187486.1\tLN:1930\r\n",
      "@SQ\tSN:NT_187487.1\tLN:990\r\n",
      "@SQ\tSN:NT_187488.1\tLN:4215\r\n",
      "@SQ\tSN:NT_187489.1\tLN:1136\r\n",
      "@SQ\tSN:NT_187490.1\tLN:2656\r\n",
      "@SQ\tSN:NT_187491.1\tLN:1650\r\n",
      "@SQ\tSN:NT_187492.1\tLN:1451\r\n",
      "@SQ\tSN:NT_187493.1\tLN:2378\r\n",
      "@SQ\tSN:NT_187494.1\tLN:2805\r\n",
      "@SQ\tSN:NT_187495.1\tLN:7992\r\n",
      "@SQ\tSN:NT_187496.1\tLN:7642\r\n",
      "@SQ\tSN:NT_113901.1\tLN:182896\r\n",
      "@SQ\tSN:NT_167213.1\tLN:179198\r\n",
      "@SQ\tSN:NT_167214.1\tLN:161802\r\n",
      "@SQ\tSN:NT_167218.1\tLN:179693\r\n",
      "@SQ\tSN:NT_187497.1\tLN:157432\r\n",
      "@SQ\tSN:NT_167220.1\tLN:15008\r\n",
      "@SQ\tSN:NT_167208.1\tLN:164239\r\n",
      "@SQ\tSN:NT_187498.1\tLN:210658\r\n",
      "@SQ\tSN:NT_187499.1\tLN:168472\r\n",
      "@SQ\tSN:NT_187500.1\tLN:41891\r\n",
      "@SQ\tSN:NT_187501.1\tLN:66486\r\n",
      "@SQ\tSN:NT_187502.1\tLN:198735\r\n",
      "@SQ\tSN:NT_187503.1\tLN:93321\r\n",
      "@SQ\tSN:NT_187504.1\tLN:158759\r\n",
      "@SQ\tSN:NT_187505.1\tLN:148850\r\n",
      "@SQ\tSN:NT_187506.1\tLN:150742\r\n",
      "@SQ\tSN:NT_187508.1\tLN:62944\r\n",
      "@SQ\tSN:NT_187509.1\tLN:40191\r\n",
      "@SQ\tSN:NT_187510.1\tLN:36723\r\n",
      "@SQ\tSN:NT_187511.1\tLN:79590\r\n",
      "@SQ\tSN:NT_187512.1\tLN:71251\r\n",
      "@SQ\tSN:NT_167209.1\tLN:137718\r\n",
      "@SQ\tSN:NT_187513.1\tLN:186739\r\n",
      "@SQ\tSN:NT_167211.2\tLN:176608\r\n",
      "@SQ\tSN:NT_113889.1\tLN:161147\r\n",
      "@SQ\tSN:NW_012132914.1\tLN:467143\r\n",
      "@SQ\tSN:NW_015495298.1\tLN:278659\r\n",
      "@SQ\tSN:NW_025791756.1\tLN:1572686\r\n",
      "@SQ\tSN:NW_011332688.1\tLN:305542\r\n",
      "@SQ\tSN:NW_014040926.1\tLN:349938\r\n",
      "@SQ\tSN:NW_009646195.1\tLN:166200\r\n",
      "@SQ\tSN:NW_018654706.1\tLN:166136\r\n",
      "@SQ\tSN:NW_019805487.1\tLN:44955\r\n",
      "@SQ\tSN:NW_009646194.1\tLN:186494\r\n",
      "@SQ\tSN:NW_018654707.1\tLN:140355\r\n",
      "@SQ\tSN:NW_014040925.1\tLN:141019\r\n",
      "@SQ\tSN:NW_017852928.1\tLN:551020\r\n",
      "@SQ\tSN:NW_009646196.1\tLN:122022\r\n",
      "@SQ\tSN:NW_025791753.1\tLN:516764\r\n",
      "@SQ\tSN:NW_025791758.1\tLN:211934\r\n",
      "@SQ\tSN:NW_025791759.1\tLN:250447\r\n",
      "@SQ\tSN:NW_025791754.1\tLN:847441\r\n",
      "@SQ\tSN:NW_011332687.1\tLN:460100\r\n",
      "@SQ\tSN:NW_018654708.1\tLN:330031\r\n",
      "@SQ\tSN:NW_014040927.1\tLN:212205\r\n",
      "@SQ\tSN:NW_025791757.1\tLN:210426\r\n",
      "@SQ\tSN:NW_025791755.1\tLN:335159\r\n",
      "@SQ\tSN:NW_021159988.1\tLN:84043\r\n",
      "@SQ\tSN:NW_025791767.1\tLN:244725\r\n",
      "@SQ\tSN:NW_025791768.1\tLN:174385\r\n",
      "@SQ\tSN:NW_025791766.1\tLN:489404\r\n",
      "@SQ\tSN:NW_025791763.1\tLN:284971\r\n",
      "@SQ\tSN:NW_012132915.1\tLN:481245\r\n",
      "@SQ\tSN:NW_025791760.1\tLN:431782\r\n",
      "@SQ\tSN:NW_025791765.1\tLN:955087\r\n",
      "@SQ\tSN:NW_018654709.1\tLN:181658\r\n",
      "@SQ\tSN:NW_025791762.1\tLN:500581\r\n",
      "@SQ\tSN:NW_025791761.1\tLN:535251\r\n",
      "@SQ\tSN:NW_025791764.1\tLN:120381\r\n",
      "@SQ\tSN:NW_015495299.1\tLN:535088\r\n",
      "@SQ\tSN:NW_018654710.1\tLN:140361\r\n",
      "@SQ\tSN:NW_011332690.1\tLN:365499\r\n",
      "@SQ\tSN:NW_021159987.1\tLN:145975\r\n",
      "@SQ\tSN:NW_011332689.1\tLN:208149\r\n",
      "@SQ\tSN:NW_017363813.1\tLN:411654\r\n",
      "@SQ\tSN:NW_025791770.1\tLN:301310\r\n",
      "@SQ\tSN:NW_025791771.1\tLN:475876\r\n",
      "@SQ\tSN:NW_009646197.1\tLN:451168\r\n",
      "@SQ\tSN:NW_012132916.1\tLN:373699\r\n",
      "@SQ\tSN:NW_011332691.1\tLN:415308\r\n",
      "@SQ\tSN:NW_021159989.1\tLN:215443\r\n",
      "@SQ\tSN:NW_018654711.1\tLN:175849\r\n",
      "@SQ\tSN:NW_012132917.1\tLN:165718\r\n",
      "@SQ\tSN:NW_009646198.1\tLN:305979\r\n",
      "@SQ\tSN:NW_019805491.1\tLN:105527\r\n",
      "@SQ\tSN:NW_019805492.1\tLN:195063\r\n",
      "@SQ\tSN:NW_019805490.1\tLN:302885\r\n",
      "@SQ\tSN:NW_019805489.1\tLN:197752\r\n",
      "@SQ\tSN:NW_019805488.1\tLN:164041\r\n",
      "@SQ\tSN:NW_025791769.1\tLN:469342\r\n",
      "@SQ\tSN:NW_021159990.1\tLN:235734\r\n",
      "@SQ\tSN:NW_021159993.1\tLN:176674\r\n",
      "@SQ\tSN:NW_013171799.1\tLN:90922\r\n",
      "@SQ\tSN:NW_025791774.1\tLN:205691\r\n",
      "@SQ\tSN:NW_021159992.1\tLN:53476\r\n",
      "@SQ\tSN:NW_021159994.1\tLN:125549\r\n",
      "@SQ\tSN:NW_021159991.1\tLN:341066\r\n",
      "@SQ\tSN:NW_021159995.1\tLN:276109\r\n",
      "@SQ\tSN:NW_013171800.1\tLN:163749\r\n",
      "@SQ\tSN:NW_013171801.1\tLN:236512\r\n",
      "@SQ\tSN:NW_025791772.1\tLN:308682\r\n",
      "@SQ\tSN:NW_017363814.1\tLN:420675\r\n",
      "@SQ\tSN:NW_025791773.1\tLN:113364\r\n",
      "@SQ\tSN:NW_015495301.1\tLN:205407\r\n",
      "@SQ\tSN:NW_015495300.1\tLN:230434\r\n",
      "@SQ\tSN:NW_025791777.1\tLN:2101585\r\n",
      "@SQ\tSN:NW_018654712.1\tLN:135987\r\n",
      "@SQ\tSN:NW_025791776.1\tLN:208405\r\n",
      "@SQ\tSN:NW_009646199.1\tLN:139087\r\n",
      "@SQ\tSN:NW_016107297.1\tLN:362221\r\n",
      "@SQ\tSN:NW_025791779.1\tLN:302485\r\n",
      "@SQ\tSN:NW_021159996.1\tLN:89956\r\n",
      "@SQ\tSN:NW_025791778.1\tLN:508332\r\n",
      "@SQ\tSN:NW_016107298.1\tLN:673059\r\n",
      "@SQ\tSN:NW_025791775.1\tLN:34400\r\n",
      "@SQ\tSN:NW_018654713.1\tLN:242796\r\n",
      "@SQ\tSN:NW_013171803.1\tLN:82315\r\n",
      "@SQ\tSN:NW_025791780.1\tLN:383128\r\n",
      "@SQ\tSN:NW_012132918.1\tLN:320750\r\n",
      "@SQ\tSN:NW_009646200.1\tLN:268330\r\n",
      "@SQ\tSN:NW_013171802.1\tLN:245716\r\n",
      "@SQ\tSN:NW_017363815.1\tLN:139427\r\n",
      "@SQ\tSN:NW_021159997.1\tLN:73265\r\n",
      "@SQ\tSN:NW_021159998.1\tLN:254759\r\n",
      "@SQ\tSN:NW_019805493.1\tLN:172555\r\n",
      "@SQ\tSN:NW_025791781.1\tLN:464417\r\n",
      "@SQ\tSN:NW_017852929.1\tLN:142129\r\n",
      "@SQ\tSN:NW_017852930.1\tLN:468267\r\n",
      "@SQ\tSN:NW_018654714.1\tLN:589656\r\n",
      "@SQ\tSN:NW_018654715.1\tLN:680662\r\n",
      "@SQ\tSN:NW_012132919.1\tLN:179932\r\n",
      "@SQ\tSN:NW_025791785.1\tLN:429744\r\n",
      "@SQ\tSN:NW_018654717.1\tLN:6367528\r\n",
      "@SQ\tSN:NW_017852932.1\tLN:265876\r\n",
      "@SQ\tSN:NW_025791782.1\tLN:150302\r\n",
      "@SQ\tSN:NW_017852931.1\tLN:156998\r\n",
      "@SQ\tSN:NW_025791784.1\tLN:106905\r\n",
      "@SQ\tSN:NW_019805494.1\tLN:103072\r\n",
      "@SQ\tSN:NW_025791786.1\tLN:207371\r\n",
      "@SQ\tSN:NW_018654716.1\tLN:165120\r\n",
      "@SQ\tSN:NW_025791783.1\tLN:39290\r\n",
      "@SQ\tSN:NW_013171804.1\tLN:163882\r\n",
      "@SQ\tSN:NW_013171805.1\tLN:134099\r\n",
      "@SQ\tSN:NW_025791789.1\tLN:569668\r\n",
      "@SQ\tSN:NW_025791787.1\tLN:340717\r\n",
      "@SQ\tSN:NW_025791788.1\tLN:482250\r\n",
      "@SQ\tSN:NW_009646201.1\tLN:330164\r\n",
      "@SQ\tSN:NW_021159999.1\tLN:25408\r\n",
      "@SQ\tSN:NW_021160000.1\tLN:454963\r\n",
      "@SQ\tSN:NW_011332694.1\tLN:420164\r\n",
      "@SQ\tSN:NW_021160001.1\tLN:292944\r\n",
      "@SQ\tSN:NW_013171806.1\tLN:185507\r\n",
      "@SQ\tSN:NW_009646202.1\tLN:277797\r\n",
      "@SQ\tSN:NW_013171807.1\tLN:264545\r\n",
      "@SQ\tSN:NW_025791790.1\tLN:196262\r\n",
      "@SQ\tSN:NW_011332693.1\tLN:85284\r\n",
      "@SQ\tSN:NW_011332692.1\tLN:14347\r\n",
      "@SQ\tSN:NW_015148966.2\tLN:204999\r\n",
      "@SQ\tSN:NW_025791792.1\tLN:434831\r\n",
      "@SQ\tSN:NW_021160004.1\tLN:270122\r\n",
      "@SQ\tSN:NW_025791794.1\tLN:122722\r\n",
      "@SQ\tSN:NW_011332695.1\tLN:203552\r\n",
      "@SQ\tSN:NW_021160006.1\tLN:170928\r\n",
      "@SQ\tSN:NW_019805496.1\tLN:279644\r\n",
      "@SQ\tSN:NW_019805495.1\tLN:305244\r\n",
      "@SQ\tSN:NW_017363816.1\tLN:140877\r\n",
      "@SQ\tSN:NW_025791793.1\tLN:344606\r\n",
      "@SQ\tSN:NW_019805498.1\tLN:181167\r\n",
      "@SQ\tSN:NW_021160005.1\tLN:217075\r\n",
      "@SQ\tSN:NW_021160003.1\tLN:165419\r\n",
      "@SQ\tSN:NW_019805497.1\tLN:301637\r\n",
      "@SQ\tSN:NW_013171808.1\tLN:181958\r\n",
      "@SQ\tSN:NW_021160002.1\tLN:45257\r\n",
      "@SQ\tSN:NW_025791791.1\tLN:261194\r\n",
      "@SQ\tSN:NW_009646203.1\tLN:108875\r\n",
      "@SQ\tSN:NW_013171809.1\tLN:109323\r\n",
      "@SQ\tSN:NW_018654718.1\tLN:1046838\r\n",
      "@SQ\tSN:NW_021160008.1\tLN:192531\r\n",
      "@SQ\tSN:NW_011332696.1\tLN:541038\r\n",
      "@SQ\tSN:NW_009646204.1\tLN:211377\r\n",
      "@SQ\tSN:NW_025791795.1\tLN:104537\r\n",
      "@SQ\tSN:NW_018654720.1\tLN:174808\r\n",
      "@SQ\tSN:NW_015148967.1\tLN:315610\r\n",
      "@SQ\tSN:NW_018654719.1\tLN:64689\r\n",
      "@SQ\tSN:NW_011332697.1\tLN:86533\r\n",
      "@SQ\tSN:NW_019805499.1\tLN:154139\r\n",
      "@SQ\tSN:NW_021160007.1\tLN:297568\r\n",
      "@SQ\tSN:NW_021160012.1\tLN:409912\r\n",
      "@SQ\tSN:NW_011332699.1\tLN:356766\r\n",
      "@SQ\tSN:NW_013171810.1\tLN:168146\r\n",
      "@SQ\tSN:NW_021160009.1\tLN:7309\r\n",
      "@SQ\tSN:NW_009646205.1\tLN:35455\r\n",
      "@SQ\tSN:NW_011332700.1\tLN:148762\r\n",
      "@SQ\tSN:NW_013171811.1\tLN:123480\r\n",
      "@SQ\tSN:NW_021160010.1\tLN:158944\r\n",
      "@SQ\tSN:NW_021160011.1\tLN:65394\r\n",
      "@SQ\tSN:NW_011332698.1\tLN:206320\r\n",
      "@SQ\tSN:NW_021160013.1\tLN:399183\r\n",
      "@SQ\tSN:NW_025791796.1\tLN:722645\r\n",
      "@SQ\tSN:NW_018654722.1\tLN:690932\r\n",
      "@SQ\tSN:NW_021160014.1\tLN:264228\r\n",
      "@SQ\tSN:NW_018654721.1\tLN:171798\r\n",
      "@SQ\tSN:NW_011332701.1\tLN:4998962\r\n",
      "@SQ\tSN:NW_021160018.1\tLN:396515\r\n",
      "@SQ\tSN:NW_021160017.1\tLN:5500449\r\n",
      "@SQ\tSN:NW_012132920.1\tLN:2365364\r\n",
      "@SQ\tSN:NW_025791798.1\tLN:204007\r\n",
      "@SQ\tSN:NW_021160016.1\tLN:369264\r\n",
      "@SQ\tSN:NW_025791797.1\tLN:1154574\r\n",
      "@SQ\tSN:NW_021160015.1\tLN:97763\r\n",
      "@SQ\tSN:NW_025791799.1\tLN:87715\r\n",
      "@SQ\tSN:NW_013171812.1\tLN:59016\r\n",
      "@SQ\tSN:NW_019805500.1\tLN:480415\r\n",
      "@SQ\tSN:NW_017852933.1\tLN:1927115\r\n",
      "@SQ\tSN:NW_021160019.1\tLN:270967\r\n",
      "@SQ\tSN:NW_013171813.1\tLN:267463\r\n",
      "@SQ\tSN:NW_018654723.1\tLN:78609\r\n",
      "@SQ\tSN:NW_012132921.1\tLN:169136\r\n",
      "@SQ\tSN:NW_025791800.1\tLN:334997\r\n",
      "@SQ\tSN:NW_017363817.1\tLN:281919\r\n",
      "@SQ\tSN:NW_021160020.1\tLN:137908\r\n",
      "@SQ\tSN:NW_016107299.1\tLN:154723\r\n",
      "@SQ\tSN:NW_017363819.1\tLN:276292\r\n",
      "@SQ\tSN:NW_025791803.1\tLN:538541\r\n",
      "@SQ\tSN:NW_025791801.1\tLN:372839\r\n",
      "@SQ\tSN:NW_017363818.1\tLN:246895\r\n",
      "@SQ\tSN:NW_019805501.1\tLN:116753\r\n",
      "@SQ\tSN:NW_025791806.1\tLN:172609\r\n",
      "@SQ\tSN:NW_025791802.1\tLN:234878\r\n",
      "@SQ\tSN:NW_025791805.1\tLN:187626\r\n",
      "@SQ\tSN:NW_021160021.1\tLN:56695\r\n",
      "@SQ\tSN:NW_025791804.1\tLN:144689\r\n",
      "@SQ\tSN:NW_019805503.1\tLN:163186\r\n",
      "@SQ\tSN:NW_014040928.1\tLN:205101\r\n",
      "@SQ\tSN:NW_019805502.1\tLN:230843\r\n",
      "@SQ\tSN:NW_013171814.1\tLN:407387\r\n",
      "@SQ\tSN:NW_018654724.1\tLN:93070\r\n",
      "@SQ\tSN:NW_025791809.1\tLN:226166\r\n",
      "@SQ\tSN:NW_025791810.1\tLN:89211\r\n",
      "@SQ\tSN:NW_025791807.1\tLN:333754\r\n",
      "@SQ\tSN:NW_021160022.1\tLN:493165\r\n",
      "@SQ\tSN:NW_014040929.1\tLN:405389\r\n",
      "@SQ\tSN:NW_025791808.1\tLN:137818\r\n",
      "@SQ\tSN:NW_009646206.1\tLN:370917\r\n",
      "@SQ\tSN:NW_016107300.1\tLN:163926\r\n",
      "@SQ\tSN:NW_016107301.1\tLN:170206\r\n",
      "@SQ\tSN:NW_016107302.1\tLN:168131\r\n",
      "@SQ\tSN:NW_016107303.1\tLN:293522\r\n",
      "@SQ\tSN:NW_016107304.1\tLN:241058\r\n",
      "@SQ\tSN:NW_016107305.1\tLN:159285\r\n",
      "@SQ\tSN:NW_016107306.1\tLN:178197\r\n",
      "@SQ\tSN:NW_016107307.1\tLN:166713\r\n",
      "@SQ\tSN:NW_016107308.1\tLN:99845\r\n",
      "@SQ\tSN:NW_016107309.1\tLN:161095\r\n",
      "@SQ\tSN:NW_016107310.1\tLN:223118\r\n",
      "@SQ\tSN:NW_016107311.1\tLN:100553\r\n",
      "@SQ\tSN:NW_016107313.1\tLN:171263\r\n",
      "@SQ\tSN:NW_016107314.1\tLN:145691\r\n",
      "@SQ\tSN:NW_016107312.1\tLN:156965\r\n",
      "@SQ\tSN:NW_025791811.1\tLN:273725\r\n",
      "@SQ\tSN:NW_025791812.1\tLN:355731\r\n",
      "@SQ\tSN:NW_021160023.1\tLN:519485\r\n",
      "@SQ\tSN:NW_025791813.1\tLN:336752\r\n",
      "@SQ\tSN:NW_025791814.1\tLN:1020778\r\n",
      "@SQ\tSN:NW_025791815.1\tLN:189707\r\n",
      "@SQ\tSN:NW_021160026.1\tLN:412368\r\n",
      "@SQ\tSN:NW_021160024.1\tLN:461303\r\n",
      "@SQ\tSN:NW_009646207.1\tLN:156562\r\n",
      "@SQ\tSN:NW_014040930.1\tLN:155930\r\n",
      "@SQ\tSN:NW_014040931.1\tLN:174749\r\n",
      "@SQ\tSN:NW_009646208.1\tLN:153027\r\n",
      "@SQ\tSN:NW_015148968.1\tLN:145162\r\n",
      "@SQ\tSN:NW_021160025.1\tLN:12295\r\n",
      "@SQ\tSN:NW_015148969.2\tLN:101040\r\n",
      "@SQ\tSN:NW_017363820.1\tLN:188004\r\n",
      "@SQ\tSN:NW_021160031.1\tLN:17435\r\n",
      "@SQ\tSN:NW_025791820.1\tLN:330493\r\n",
      "@SQ\tSN:NW_021160028.1\tLN:28824\r\n",
      "@SQ\tSN:NW_025791816.1\tLN:68810\r\n",
      "@SQ\tSN:NW_021160029.1\tLN:68192\r\n",
      "@SQ\tSN:NW_025791817.1\tLN:140567\r\n",
      "@SQ\tSN:NW_021160027.1\tLN:403128\r\n",
      "@SQ\tSN:NW_025791819.1\tLN:294119\r\n",
      "@SQ\tSN:NW_021160030.1\tLN:14678\r\n",
      "@SQ\tSN:NW_025791818.1\tLN:619716\r\n",
      "@SQ\tSN:NW_018654725.1\tLN:48370\r\n",
      "@SQ\tSN:NW_025791821.1\tLN:865743\r\n",
      "@SQ\tSN:NW_018654726.1\tLN:209722\r\n",
      "@SQ\tSN:NW_009646209.1\tLN:101150\r\n",
      "@SQ\tSN:NT_187515.1\tLN:354444\r\n",
      "@SQ\tSN:NT_187517.1\tLN:256271\r\n",
      "@SQ\tSN:NT_187514.1\tLN:109528\r\n",
      "@SQ\tSN:NT_187520.1\tLN:185285\r\n",
      "@SQ\tSN:NW_003315905.1\tLN:182439\r\n",
      "@SQ\tSN:NW_003315906.1\tLN:110268\r\n",
      "@SQ\tSN:NW_003315907.2\tLN:366580\r\n",
      "@SQ\tSN:NT_187521.1\tLN:50258\r\n",
      "@SQ\tSN:NT_187519.1\tLN:911658\r\n",
      "@SQ\tSN:NT_187516.1\tLN:425601\r\n",
      "@SQ\tSN:NT_187518.1\tLN:165834\r\n",
      "@SQ\tSN:NT_187525.1\tLN:136240\r\n",
      "@SQ\tSN:NT_187526.1\tLN:70887\r\n",
      "@SQ\tSN:NT_187529.1\tLN:223625\r\n",
      "@SQ\tSN:NT_187522.1\tLN:120616\r\n",
      "@SQ\tSN:NW_003315908.1\tLN:143390\r\n",
      "@SQ\tSN:NT_187524.1\tLN:133041\r\n",
      "@SQ\tSN:NT_187531.1\tLN:138019\r\n",
      "@SQ\tSN:NT_187530.1\tLN:110395\r\n",
      "@SQ\tSN:NT_187528.1\tLN:110099\r\n",
      "@SQ\tSN:NW_003571033.2\tLN:96131\r\n",
      "@SQ\tSN:NW_003315909.1\tLN:123821\r\n",
      "@SQ\tSN:NT_187527.1\tLN:174166\r\n",
      "@SQ\tSN:NT_187523.1\tLN:161578\r\n",
      "@SQ\tSN:NW_003871060.2\tLN:173151\r\n",
      "@SQ\tSN:NT_187535.1\tLN:109187\r\n",
      "@SQ\tSN:NT_187537.1\tLN:224108\r\n",
      "@SQ\tSN:NW_003315913.1\tLN:180671\r\n",
      "@SQ\tSN:NT_187533.1\tLN:173649\r\n",
      "@SQ\tSN:NT_187536.1\tLN:248252\r\n",
      "@SQ\tSN:NT_187538.1\tLN:113034\r\n",
      "@SQ\tSN:NT_187532.1\tLN:205312\r\n",
      "@SQ\tSN:NT_187534.1\tLN:162429\r\n",
      "@SQ\tSN:NT_187539.1\tLN:184404\r\n",
      "@SQ\tSN:NT_187540.1\tLN:220246\r\n",
      "@SQ\tSN:NW_003315915.1\tLN:376187\r\n",
      "@SQ\tSN:NT_187541.1\tLN:111943\r\n",
      "@SQ\tSN:NT_167250.2\tLN:586476\r\n",
      "@SQ\tSN:NT_187544.1\tLN:158965\r\n",
      "@SQ\tSN:NW_003315914.1\tLN:164536\r\n",
      "@SQ\tSN:NT_187542.1\tLN:119912\r\n",
      "@SQ\tSN:NT_187545.1\tLN:205944\r\n",
      "@SQ\tSN:NT_187543.1\tLN:244096\r\n",
      "@SQ\tSN:NT_187550.1\tLN:126136\r\n",
      "@SQ\tSN:NT_187548.1\tLN:179043\r\n",
      "@SQ\tSN:NT_187547.1\tLN:195710\r\n",
      "@SQ\tSN:NW_003315920.1\tLN:82728\r\n",
      "@SQ\tSN:NW_003571036.1\tLN:226852\r\n",
      "@SQ\tSN:NT_187551.1\tLN:164558\r\n",
      "@SQ\tSN:NW_003315917.2\tLN:1612928\r\n",
      "@SQ\tSN:NW_003315918.1\tLN:101241\r\n",
      "@SQ\tSN:NT_187549.1\tLN:172708\r\n",
      "@SQ\tSN:NW_003315919.1\tLN:173459\r\n",
      "@SQ\tSN:NT_187546.1\tLN:131892\r\n",
      "@SQ\tSN:NT_167244.2\tLN:4672374\r\n",
      "@SQ\tSN:NT_187555.1\tLN:175808\r\n",
      "@SQ\tSN:NT_187554.1\tLN:152148\r\n",
      "@SQ\tSN:NW_003315921.1\tLN:124736\r\n",
      "@SQ\tSN:NT_187556.1\tLN:870480\r\n",
      "@SQ\tSN:NT_187557.1\tLN:75005\r\n",
      "@SQ\tSN:NW_004166862.2\tLN:185823\r\n",
      "@SQ\tSN:NT_187552.1\tLN:197536\r\n",
      "@SQ\tSN:NT_187553.1\tLN:271782\r\n",
      "@SQ\tSN:NT_187558.1\tLN:157952\r\n",
      "@SQ\tSN:NT_187561.1\tLN:209586\r\n",
      "@SQ\tSN:NT_187559.1\tLN:158166\r\n",
      "@SQ\tSN:NW_003315922.2\tLN:119183\r\n",
      "@SQ\tSN:NT_187562.1\tLN:1111570\r\n",
      "@SQ\tSN:NT_187564.1\tLN:271455\r\n",
      "@SQ\tSN:NT_187563.1\tLN:126434\r\n",
      "@SQ\tSN:NT_187560.1\tLN:209988\r\n",
      "@SQ\tSN:NT_187572.1\tLN:145606\r\n",
      "@SQ\tSN:NT_187568.1\tLN:282736\r\n",
      "@SQ\tSN:NT_187565.1\tLN:292436\r\n",
      "@SQ\tSN:NT_187576.1\tLN:985506\r\n",
      "@SQ\tSN:NT_187570.1\tLN:300230\r\n",
      "@SQ\tSN:NT_187577.1\tLN:624492\r\n",
      "@SQ\tSN:NT_187566.1\tLN:141812\r\n",
      "@SQ\tSN:NT_187567.1\tLN:374415\r\n",
      "@SQ\tSN:NT_187574.1\tLN:133535\r\n",
      "@SQ\tSN:NT_187575.1\tLN:36640\r\n",
      "@SQ\tSN:NT_187573.1\tLN:158983\r\n",
      "@SQ\tSN:NT_187571.1\tLN:305841\r\n",
      "@SQ\tSN:NT_187569.1\tLN:132244\r\n",
      "@SQ\tSN:NW_003315928.1\tLN:162988\r\n",
      "@SQ\tSN:NW_003315929.1\tLN:71551\r\n",
      "@SQ\tSN:NW_003315930.1\tLN:171286\r\n",
      "@SQ\tSN:NW_003315931.1\tLN:60032\r\n",
      "@SQ\tSN:NT_187578.1\tLN:439082\r\n",
      "@SQ\tSN:NW_003315934.1\tLN:179254\r\n",
      "@SQ\tSN:NT_187579.1\tLN:181496\r\n",
      "@SQ\tSN:NW_003315935.1\tLN:309802\r\n",
      "@SQ\tSN:NT_187586.1\tLN:210133\r\n",
      "@SQ\tSN:NT_187584.1\tLN:177092\r\n",
      "@SQ\tSN:NT_187585.1\tLN:296895\r\n",
      "@SQ\tSN:NT_187583.1\tLN:204059\r\n",
      "@SQ\tSN:NW_003315936.1\tLN:154407\r\n",
      "@SQ\tSN:NW_003871073.1\tLN:200998\r\n",
      "@SQ\tSN:NW_003871074.1\tLN:191409\r\n",
      "@SQ\tSN:NT_187582.1\tLN:67707\r\n",
      "@SQ\tSN:NT_187581.1\tLN:186169\r\n",
      "@SQ\tSN:NW_003571049.1\tLN:167313\r\n",
      "@SQ\tSN:NW_003571050.1\tLN:408271\r\n",
      "@SQ\tSN:NT_187588.1\tLN:40090\r\n",
      "@SQ\tSN:NW_003315938.1\tLN:120804\r\n",
      "@SQ\tSN:NT_187587.1\tLN:238139\r\n",
      "@SQ\tSN:NW_003315939.2\tLN:169178\r\n",
      "@SQ\tSN:NW_003315941.1\tLN:138655\r\n",
      "@SQ\tSN:NW_003315942.2\tLN:152874\r\n",
      "@SQ\tSN:NT_187590.1\tLN:119498\r\n",
      "@SQ\tSN:NW_003315940.1\tLN:184319\r\n",
      "@SQ\tSN:NT_187589.1\tLN:76061\r\n",
      "@SQ\tSN:NT_187591.1\tLN:56134\r\n",
      "@SQ\tSN:NT_187594.1\tLN:191684\r\n",
      "@SQ\tSN:NT_187593.1\tLN:180306\r\n",
      "@SQ\tSN:NT_187597.1\tLN:103832\r\n",
      "@SQ\tSN:NT_187595.1\tLN:169134\r\n",
      "@SQ\tSN:NT_187592.1\tLN:306913\r\n",
      "@SQ\tSN:NT_187596.1\tLN:37287\r\n",
      "@SQ\tSN:NT_187598.1\tLN:322166\r\n",
      "@SQ\tSN:NT_187601.1\tLN:1511111\r\n",
      "@SQ\tSN:NT_187599.1\tLN:180703\r\n",
      "@SQ\tSN:NT_187600.1\tLN:1351393\r\n",
      "@SQ\tSN:NT_187602.1\tLN:478999\r\n",
      "@SQ\tSN:NT_187604.1\tLN:263054\r\n",
      "@SQ\tSN:NT_187603.1\tLN:327382\r\n",
      "@SQ\tSN:NW_003315943.1\tLN:296527\r\n",
      "@SQ\tSN:NT_187605.1\tLN:244917\r\n",
      "@SQ\tSN:NW_003315944.2\tLN:388773\r\n",
      "@SQ\tSN:NT_187606.1\tLN:430880\r\n",
      "@SQ\tSN:NT_187610.1\tLN:134193\r\n",
      "@SQ\tSN:NT_187609.1\tLN:63982\r\n",
      "@SQ\tSN:NT_187608.1\tLN:232857\r\n",
      "@SQ\tSN:NT_187607.1\tLN:2659700\r\n",
      "@SQ\tSN:NW_003315945.1\tLN:192462\r\n",
      "@SQ\tSN:NW_003315946.1\tLN:89672\r\n",
      "@SQ\tSN:NW_003315952.3\tLN:375691\r\n",
      "@SQ\tSN:NT_187613.1\tLN:391357\r\n",
      "@SQ\tSN:NT_187611.1\tLN:196688\r\n",
      "@SQ\tSN:NT_187614.1\tLN:2877074\r\n",
      "@SQ\tSN:NW_003871091.1\tLN:278131\r\n",
      "@SQ\tSN:NW_003871092.1\tLN:70345\r\n",
      "@SQ\tSN:NW_003315953.2\tLN:133151\r\n",
      "@SQ\tSN:NT_167251.2\tLN:1821992\r\n",
      "@SQ\tSN:NW_003315954.1\tLN:223995\r\n",
      "@SQ\tSN:NT_187615.1\tLN:235827\r\n",
      "@SQ\tSN:NT_187616.1\tLN:108763\r\n",
      "@SQ\tSN:NW_003315955.1\tLN:90219\r\n",
      "@SQ\tSN:NT_187612.1\tLN:178921\r\n",
      "@SQ\tSN:NT_187618.1\tLN:111737\r\n",
      "@SQ\tSN:NW_003315956.1\tLN:289831\r\n",
      "@SQ\tSN:NW_003315959.1\tLN:164789\r\n",
      "@SQ\tSN:NW_003315960.1\tLN:198278\r\n",
      "@SQ\tSN:NW_003315957.1\tLN:104552\r\n",
      "@SQ\tSN:NW_003315958.1\tLN:167950\r\n",
      "@SQ\tSN:NW_003315961.1\tLN:159547\r\n",
      "@SQ\tSN:NT_187617.1\tLN:167999\r\n",
      "@SQ\tSN:NT_187622.1\tLN:61734\r\n",
      "@SQ\tSN:NT_187621.1\tLN:52969\r\n",
      "@SQ\tSN:NW_003315962.1\tLN:385657\r\n",
      "@SQ\tSN:NW_003315964.2\tLN:170222\r\n",
      "@SQ\tSN:NW_003315965.1\tLN:188024\r\n",
      "@SQ\tSN:NW_003315963.1\tLN:155864\r\n",
      "@SQ\tSN:NT_187619.1\tLN:43156\r\n",
      "@SQ\tSN:NT_187620.1\tLN:233762\r\n",
      "@SQ\tSN:NW_003571054.1\tLN:987716\r\n",
      "@SQ\tSN:NW_003315966.2\tLN:128386\r\n",
      "@SQ\tSN:NT_187623.1\tLN:118774\r\n",
      "@SQ\tSN:NT_187625.1\tLN:58661\r\n",
      "@SQ\tSN:NT_187624.1\tLN:183433\r\n",
      "@SQ\tSN:NW_003315967.2\tLN:63917\r\n",
      "@SQ\tSN:NT_187628.1\tLN:166743\r\n",
      "@SQ\tSN:NT_187627.1\tLN:143900\r\n",
      "@SQ\tSN:NW_003315968.2\tLN:201197\r\n",
      "@SQ\tSN:NW_003315969.2\tLN:74653\r\n",
      "@SQ\tSN:NW_003315970.2\tLN:116689\r\n",
      "@SQ\tSN:NT_187626.1\tLN:82692\r\n",
      "@SQ\tSN:NT_187629.1\tLN:259914\r\n",
      "@SQ\tSN:NT_187632.1\tLN:186262\r\n",
      "@SQ\tSN:NT_187633.1\tLN:304135\r\n",
      "@SQ\tSN:NT_187630.1\tLN:263666\r\n",
      "@SQ\tSN:NT_187631.1\tLN:101331\r\n",
      "@SQ\tSN:NW_003315972.2\tLN:96924\r\n",
      "@SQ\tSN:NW_003315971.2\tLN:162811\r\n",
      "@SQ\tSN:NT_187634.1\tLN:284869\r\n",
      "@SQ\tSN:NT_187635.1\tLN:144206\r\n",
      "@SQ\tSN:NT_187646.1\tLN:162212\r\n",
      "@SQ\tSN:NT_187648.1\tLN:214158\r\n",
      "@SQ\tSN:NT_187647.1\tLN:161218\r\n",
      "@SQ\tSN:NT_187649.1\tLN:162896\r\n",
      "@SQ\tSN:NT_187650.1\tLN:378547\r\n",
      "@SQ\tSN:NT_187651.1\tLN:1144418\r\n",
      "@SQ\tSN:NT_187652.1\tLN:130957\r\n",
      "@SQ\tSN:NT_113891.3\tLN:4795265\r\n",
      "@SQ\tSN:NT_187653.1\tLN:190869\r\n",
      "@SQ\tSN:NT_187655.1\tLN:136959\r\n",
      "@SQ\tSN:NT_187654.1\tLN:318687\r\n",
      "@SQ\tSN:NT_187656.1\tLN:106711\r\n",
      "@SQ\tSN:NT_187657.1\tLN:214625\r\n",
      "@SQ\tSN:NT_187658.1\tLN:572349\r\n",
      "@SQ\tSN:NT_187659.1\tLN:196384\r\n",
      "@SQ\tSN:NT_187660.1\tLN:5161414\r\n",
      "@SQ\tSN:NT_187662.1\tLN:137721\r\n",
      "@SQ\tSN:NT_187664.1\tLN:157099\r\n",
      "@SQ\tSN:NT_187661.1\tLN:325800\r\n",
      "@SQ\tSN:NW_003871093.1\tLN:88070\r\n",
      "@SQ\tSN:NT_187663.1\tLN:1423190\r\n",
      "@SQ\tSN:NT_187665.1\tLN:174061\r\n",
      "@SQ\tSN:NT_187666.1\tLN:157710\r\n",
      "@SQ\tSN:NW_003571055.2\tLN:729520\r\n",
      "@SQ\tSN:NW_004504305.1\tLN:74013\r\n",
      "@SQ\tSN:NT_187667.1\tLN:274009\r\n",
      "@SQ\tSN:NT_187678.1\tLN:166540\r\n",
      "@SQ\tSN:NT_187679.1\tLN:555799\r\n",
      "@SQ\tSN:NT_167245.2\tLN:4604811\r\n",
      "@SQ\tSN:NT_187680.1\tLN:229282\r\n",
      "@SQ\tSN:NT_187681.1\tLN:218612\r\n",
      "@SQ\tSN:NW_003571056.2\tLN:1064304\r\n",
      "@SQ\tSN:NT_187682.1\tLN:176103\r\n",
      "@SQ\tSN:NT_187688.1\tLN:163458\r\n",
      "@SQ\tSN:NT_167246.2\tLN:4677643\r\n",
      "@SQ\tSN:NW_003571057.2\tLN:1091841\r\n",
      "@SQ\tSN:NT_187689.1\tLN:197351\r\n",
      "@SQ\tSN:NT_167247.2\tLN:4827813\r\n",
      "@SQ\tSN:NW_003571058.2\tLN:1066390\r\n",
      "@SQ\tSN:NT_187690.1\tLN:164170\r\n",
      "@SQ\tSN:NT_167248.2\tLN:4606388\r\n",
      "@SQ\tSN:NW_003571059.2\tLN:1002683\r\n",
      "@SQ\tSN:NT_187691.1\tLN:165607\r\n",
      "@SQ\tSN:NT_167249.2\tLN:4929269\r\n",
      "@SQ\tSN:NW_003571060.1\tLN:987100\r\n",
      "@SQ\tSN:NT_187692.1\tLN:76752\r\n",
      "@SQ\tSN:NW_003571061.2\tLN:796479\r\n",
      "@SQ\tSN:NT_187693.1\tLN:1066800\r\n",
      "@SQ\tSN:NT_187636.1\tLN:248807\r\n",
      "@SQ\tSN:NT_187637.1\tLN:170399\r\n",
      "@SQ\tSN:NT_187638.1\tLN:157053\r\n",
      "@SQ\tSN:NT_187639.1\tLN:171027\r\n",
      "@SQ\tSN:NT_187640.1\tLN:204239\r\n",
      "@SQ\tSN:NT_187641.1\tLN:209512\r\n",
      "@SQ\tSN:NT_187642.1\tLN:155532\r\n",
      "@SQ\tSN:NT_187643.1\tLN:170698\r\n",
      "@SQ\tSN:NT_187644.1\tLN:184499\r\n",
      "@SQ\tSN:NT_187645.1\tLN:170680\r\n",
      "@SQ\tSN:NT_187668.1\tLN:205194\r\n",
      "@SQ\tSN:NT_187669.1\tLN:170665\r\n",
      "@SQ\tSN:NT_187670.1\tLN:184516\r\n",
      "@SQ\tSN:NT_187671.1\tLN:190932\r\n",
      "@SQ\tSN:NT_187672.1\tLN:123111\r\n",
      "@SQ\tSN:NT_187673.1\tLN:170701\r\n",
      "@SQ\tSN:NT_187674.1\tLN:198005\r\n",
      "@SQ\tSN:NT_187675.1\tLN:282224\r\n",
      "@SQ\tSN:NT_187676.1\tLN:187935\r\n",
      "@SQ\tSN:NT_187677.1\tLN:189352\r\n",
      "@SQ\tSN:NT_187683.1\tLN:186203\r\n",
      "@SQ\tSN:NT_187684.1\tLN:200773\r\n",
      "@SQ\tSN:NT_187685.1\tLN:170148\r\n",
      "@SQ\tSN:NT_187686.1\tLN:215732\r\n",
      "@SQ\tSN:NT_187687.1\tLN:170537\r\n",
      "@SQ\tSN:NT_113949.2\tLN:177381\r\n",
      "@SQ\tSN:NC_012920.1\tLN:16569\r\n",
      "@PG\tID:minimap2\tPN:minimap2\tVN:2.26-r1175\tCL:minimap2 -c -a /home/hice1/akrishna311/scratch/project/GCF_000001405.40_GRCh38.p14_genomic.mmi /home/hice1/akrishna311/scratch/project/trimming/SRR070501_1_trimmed.fastq.gz /home/hice1/akrishna311/scratch/project/trimming/SRR070501_2_trimmed.fastq.gz\r\n",
      "@PG\tID:samtools\tPN:samtools\tPP:minimap2\tVN:1.17\tCL:samtools sort -o /home/hice1/akrishna311/scratch/project/SRR070501_Minimap.sam -O sam -@ 32 /home/hice1/akrishna311/scratch/project/SRR070501_Minimap.sam\r\n",
      "@PG\tID:samtools.1\tPN:samtools\tPP:samtools\tVN:1.17\tCL:samtools view -H /home/hice1/akrishna311/scratch/project/project3/SRR070501_Minimap.sam\r\n"
     ]
    }
   ],
   "source": [
    "#This is a repeat from last project, but we want to check the sorted file again.\n",
    "!samtools view -H ~/scratch/project/project3/SRR070501_Minimap.sam\n",
    "\n",
    "# -H: shows only headers"
   ]
  },
  {
   "cell_type": "markdown",
   "id": "90f33e55",
   "metadata": {},
   "source": [
    "<div class=\"alert alert-block alert-warning\">\n",
    "    <h3>1.3 The pieleup format</h3>\n",
    "    <p><b>1.3.1</b> A lot of variant callers use the pielup format for calling variants from SAM file. Explain in 2-3 lines what is the pileup format?</p>\n",
    "    <p><b>1.3.2</b> Explain the 6 columns of a pielup format file in your own words.</p>\n",
    "</div>"
   ]
  },
  {
   "cell_type": "code",
   "execution_count": 4,
   "id": "725bd049",
   "metadata": {},
   "outputs": [],
   "source": [
    "#Information about the pileup format."
   ]
  },
  {
   "cell_type": "markdown",
   "id": "dc5136ae",
   "metadata": {},
   "source": [
    "> Pileup format consists of TAB-separated lines. A pileup is essentially a column-wise representation of the aligned reads - at the base level - to the reference. The pileup file summarises all data from the reads at each genomic region that is covered by at least one read. Several columns contain numeric quality values encoded as individual ASCII characters."
   ]
  },
  {
   "cell_type": "code",
   "execution_count": 6,
   "id": "658cf70e",
   "metadata": {},
   "outputs": [],
   "source": [
    "#Information about the 6 fields of the pieleup format file.\n",
    "#Write one sentence for each file."
   ]
  },
  {
   "cell_type": "markdown",
   "id": "85fe64bf",
   "metadata": {},
   "source": [
    "The six fields of pileup files are -\n",
    "1. Sequence - Sequence identifier\n",
    "2. Position - Position in sequence (starting from 1)\n",
    "3. Reference base - Reference nucleotide at that position\n",
    "4. Read count - Number of aligned reads covering that position (depth of coverage)\n",
    "5. Read results - Bases at that position from aligned reads\n",
    "6. Quality - Phred Quality of those bases, represented in ASCII with -33 offset (OPTIONAL)"
   ]
  },
  {
   "cell_type": "markdown",
   "id": "de23fff0",
   "metadata": {},
   "source": [
    "<div class=\"alert alert-block alert-warning\">\n",
    "    <h3>1.4 Create the pileup file</h3>\n",
    "    <p>Using samtools, create the pileup file for the SAM file of your 1000 genomes individuals</p>\n",
    "</div>"
   ]
  },
  {
   "cell_type": "code",
   "execution_count": null,
   "id": "fb59905a",
   "metadata": {},
   "outputs": [],
   "source": [
    "#We got an error when creating pileup file using gzipped reference genome. So we are unzipping the reference\n",
    "!gunzip ~/scratch/project/project2/GCF_000001405.40_GRCh38.p14_genomic.fna.gz"
   ]
  },
  {
   "cell_type": "code",
   "execution_count": 11,
   "id": "4ac166ab",
   "metadata": {},
   "outputs": [
    {
     "name": "stdout",
     "output_type": "stream",
     "text": [
      "[mpileup] 1 samples in 1 input files\r\n"
     ]
    }
   ],
   "source": [
    "#Your command for pileup here.\n",
    "# we are making use of reference file in project2's directory \n",
    "!samtools mpileup -f ~/scratch/project/project2/GCF_000001405.40_GRCh38.p14_genomic.fna ~/scratch/project/project3/SRR070501_Minimap.bam -o ~/scratch/project/project3/SRR070501.mpileup"
   ]
  },
  {
   "cell_type": "code",
   "execution_count": 12,
   "id": "15c81b8b",
   "metadata": {},
   "outputs": [
    {
     "name": "stdout",
     "output_type": "stream",
     "text": [
      "NC_000001.11\t10227\tc\t1\t^\".\tA\r\n",
      "NC_000001.11\t10228\tt\t1\t.\tB\r\n",
      "NC_000001.11\t10229\ta\t1\t.\t>\r\n",
      "NC_000001.11\t10230\ta\t1\t.\t:\r\n",
      "NC_000001.11\t10231\tc\t1\tA\t:\r\n",
      "NC_000001.11\t10232\tc\t1\t.\t:\r\n",
      "NC_000001.11\t10233\tc\t1\t.\t:\r\n",
      "NC_000001.11\t10234\tc\t1\t.\t:\r\n",
      "NC_000001.11\t10235\tt\t1\t.+1A\t:\r\n",
      "NC_000001.11\t10236\ta\t0\t*\t*\r\n"
     ]
    }
   ],
   "source": [
    "#Show the first 10 lines of the Pileup file.\n",
    "!head -n 10 ~/scratch/project/project3/SRR070501.mpileup"
   ]
  },
  {
   "cell_type": "code",
   "execution_count": 13,
   "id": "faded061",
   "metadata": {},
   "outputs": [
    {
     "name": "stdout",
     "output_type": "stream",
     "text": [
      "NC_000001.11\t39506\tC\t1\t,\tE\r\n",
      "NC_000001.11\t39507\tT\t1\t,\tD\r\n",
      "NC_000001.11\t39508\tG\t1\t,\tE\r\n",
      "NC_000001.11\t39509\tC\t1\t,\tB\r\n",
      "NC_000001.11\t39510\tC\t1\t,\tB\r\n",
      "NC_000001.11\t39511\tA\t1\t,\tB\r\n",
      "NC_000001.11\t39512\tT\t1\t,\tB\r\n",
      "NC_000001.11\t39513\tT\t1\t,\tB\r\n",
      "NC_000001.11\t39514\tC\t1\t,\tB\r\n",
      "NC_000001.11\t39515\tA\t1\t,\tA\r\n",
      "NC_000001.11\t39516\tC\t1\t,\t?\r\n"
     ]
    }
   ],
   "source": [
    "#Show the 10,000 - 10,010 lines of the Pileup file.\n",
    "!sed -n '10000,10010p' ~/scratch/project/project3/SRR070501.mpileup"
   ]
  },
  {
   "cell_type": "code",
   "execution_count": 15,
   "id": "99e5a469",
   "metadata": {},
   "outputs": [
    {
     "name": "stdout",
     "output_type": "stream",
     "text": [
      "NC_000001.11\t989642\tC\t1\t.\tB\r\n",
      "NC_000001.11\t989643\tC\t1\t.\tE\r\n",
      "NC_000001.11\t989644\tT\t1\t.\tE\r\n",
      "NC_000001.11\t989645\tT\t1\t.\tB\r\n",
      "NC_000001.11\t989646\tC\t1\t.\tA\r\n",
      "NC_000001.11\t989647\tT\t1\t.\t@\r\n",
      "NC_000001.11\t989648\tG\t1\t.\t7\r\n",
      "NC_000001.11\t989649\tT\t1\t.\t5\r\n",
      "NC_000001.11\t989650\tG\t1\t.\t:\r\n",
      "NC_000001.11\t989651\tT\t1\t.\t/\r\n",
      "NC_000001.11\t989652\tC\t1\t.\t>\r\n"
     ]
    }
   ],
   "source": [
    "#Show the 200,000 - 200,010 lines of the Pileup file.\n",
    "!awk 'NR>=200000 && NR<=200010' ~/scratch/project/project3/SRR070501.mpileup"
   ]
  },
  {
   "cell_type": "code",
   "execution_count": 16,
   "id": "16842ccc",
   "metadata": {},
   "outputs": [
    {
     "name": "stdout",
     "output_type": "stream",
     "text": [
      "NC_012920.1\t16560\tC\t50\t.$,$.,,.....,.,,.,..,,,.,.,..,,,,,..,.,,,,,,,...,..,\t1EEFGCEFEE:@GGCFEFGGGBFCDEEGG:FGEEFGGDGCEGGEGEFGAE\r\n",
      "NC_012920.1\t16561\tA\t48\t.$,$,$.....,.,,.,..,,,.,.,..,,,,,..,.,,,,,,,...,..,\tEEECEEEC:CGEDFEGFGGBFE=EEGDDFFEEEGGDFEEGGEGGEECE\r\n",
      "NC_012920.1\t16562\tT\t44\t.$.$...,.,,.,..,,,.,.,..,,,,,..,.,,,,,,...,..,\tCEFE?ECGGEEEEEGG=DEBEGGD?FGEEBEGF:EFE=FGEGEB\r\n",
      "NC_012920.1\t16563\tC\t43\t.$..,.,,.,..,,,.,.,..,,,,,..,.,,,,,,,...,..,\tDECE8GGEFBBGGG?DEEEEGG?GGE@CGGAGEEFGEGGFGDF\r\n",
      "NC_012920.1\t16564\tA\t42\t.$.$,$.,,.,..,,,.,.,..,,,,,..,.,,,,,,,...,..,\tEBECGBEEFEDGEBFDCEEGBDGFEEBGFDDCEDGEGDFEEE\r\n",
      "NC_012920.1\t16565\tC\t39\t.$,$,$.,..,,,.,.,..,,,,,..,.,,,,,,,...,..,\tCEEEEFEGGB@GEFEEGGFGGGE;FGBGFEEGEFGAGEG\r\n",
      "NC_012920.1\t16566\tG\t36\t.$,$..,,,.,.,..,,,,,..,.,,,,,,,...,..,\tEEFGGGG=ABEEEEE?GGEE7EGBGDFFGEGGGG?G\r\n",
      "NC_012920.1\t16567\tA\t34\t..,,,.,.,..,,,,,..,.,,,,,,,...,..,\t=EFGFBA?B???>?DDDD6BDDDDDDD:DDCD?D\r\n",
      "NC_012920.1\t16568\tT\t34\t.$.$,$,,.,.,..,,,,,..,$.,,,,,,,...,..,\tEEEGG@C=><<<;<BBAB3BBBBBBBBAABAAAB\r\n",
      "NC_012920.1\t16569\tG\t28\t,$,$.$,$.$.$,$,$,$,$,$.$.$.$,$,$,$,$,$,$,$.$.$.$,$.$.$,$\tEE00000/01111111111111111111\r\n"
     ]
    }
   ],
   "source": [
    "#Since the above commands were showing matches for 1 base only, we ran tail command to check if there are any reads which have more matches\n",
    "!tail ~/scratch/project/project3/SRR070501.mpileup"
   ]
  },
  {
   "cell_type": "markdown",
   "id": "49431713",
   "metadata": {},
   "source": [
    "<div class=\"alert alert-block alert-warning\">\n",
    "    <h3>1.5 Look more into the pileup file</h3>\n",
    "    <p>Show the 100,000th entry in your pileup file and explain (2-4 lines) what information column 5 <b><i>Read Results</i></b> is providing the user</p>\n",
    "</div>"
   ]
  },
  {
   "cell_type": "code",
   "execution_count": 18,
   "id": "53d8984c",
   "metadata": {},
   "outputs": [
    {
     "name": "stdout",
     "output_type": "stream",
     "text": [
      "NC_000001.11\t620276\ta\t1\t.\tG\r\n"
     ]
    }
   ],
   "source": [
    "#Show the 100,000th entry here.\n",
    "!awk 'NR == 100000 {print; exit}' ~/scratch/project/project3/SRR070501.mpileup"
   ]
  },
  {
   "cell_type": "code",
   "execution_count": 10,
   "id": "23218ee6",
   "metadata": {},
   "outputs": [],
   "source": [
    "#Explain the entry here."
   ]
  },
  {
   "cell_type": "markdown",
   "id": "05db3300",
   "metadata": {},
   "source": [
    "1. Sequence - sequence identifier is NC_000001.11 where 11 is the chromosome 11\n",
    "2. Position - position in sequence is 620276\n",
    "3. Reference base - reference nucleotide at 620276 position is 'a'\n",
    "4. Read count - depth of the read is 1\n",
    "5. Read results - a dot means a match to the reference base on the forward strand\n",
    "6. Quality - Phred Quality score is G which is equivalent to 71\n",
    "\n",
    "The 5th column of 100,000th line for our mpileup file is just \".\". But there can also be other symbols in the 5th column as follows -\n",
    "\n",
    "1) . (dot) means a base that matched the reference on the forward strand <br>\n",
    "2) , (comma) means a base that matched the reference on the reverse strand <br>\n",
    "3) </> (less-/greater-than sign) denotes a reference skip. This occurs, for example, if a base in the reference genome is intronic and a read maps to two flanking exons. If quality scores are given in a sixth column, they refer to the quality of the read and not the specific base.<br>\n",
    "4) AGTCN (upper case) denotes a base that did not match the reference on the forward strand<br>\n",
    "5) agtcn (lower case) denotes a base that did not match the reference on the reverse strand<br>\n",
    "6) A sequence matching the regular expression \\+[0-9]+[ACGTNacgtn]+ denotes an insertion of one or more bases starting from the next position. For example, +2AG means insertion of AG in the forward strand<br>\n",
    "7) A sequence matching the regular expression \\-[0-9]+[ACGTNacgtn]+ denotes a deletion of one or more bases starting from the next position. For example, -2ct means deletion of CT in the reverse strand<br>\n",
    "8) ^ (caret) marks the start of a read segment and the ASCII of the character following `^' minus 33 gives the mapping quality<br>\n",
    "9) $ (dollar) marks the end of a read segment<br>\n",
    "10) * (asterisk) is a placeholder for a deleted base in a multiple basepair deletion that was mentioned in a previous line by the -[0-9]+[ACGTNacgtn]+ notation<br>"
   ]
  },
  {
   "cell_type": "markdown",
   "id": "367b7759",
   "metadata": {},
   "source": [
    "<div class=\"alert alert-block alert-warning\">\n",
    "    <h3>1.6 Plot the read count distribution</h3>\n",
    "    <p>A graph that shows how many reads are aligning to a specific genomic region could be helpful for determining flags for our variant caller. \n",
    "    <p>Plot a graph (thin bars or line) between <b><i>Read Count (y-axis)</i></b> and <b><i>Position (x-axis)</i></b> only for <u>chromosome 20</u>.</p>\n",
    "    <hr>\n",
    "    <p>You can use Python for visualization, but will have to filter the pileup file using bash or python.</p>\n",
    "</div>"
   ]
  },
  {
   "cell_type": "code",
   "execution_count": 8,
   "id": "8acd8c4c",
   "metadata": {},
   "outputs": [],
   "source": [
    "#An awk command can help you create a file with just the information for chr20.\n",
    "\n",
    "!grep \"^NC_000020\\..*\" ~/scratch/project/project3/SRR070501.mpileup | awk '{print $2, $4}'  > ~/scratch/project/project3/chr20_readcount_pos.txt"
   ]
  },
  {
   "cell_type": "markdown",
   "id": "6222794e",
   "metadata": {},
   "source": [
    "![chr20.jpg](attachment:chr20.jpg)"
   ]
  },
  {
   "cell_type": "code",
   "execution_count": 5,
   "id": "0b937e3d",
   "metadata": {},
   "outputs": [
    {
     "name": "stdout",
     "output_type": "stream",
     "text": [
      "60063 0\r\n",
      "60064 0\r\n",
      "60065 0\r\n",
      "60066 0\r\n",
      "60067 0\r\n",
      "60068 0\r\n",
      "60069 1\r\n",
      "60070 1\r\n",
      "60071 1\r\n",
      "60072 1\r\n"
     ]
    }
   ],
   "source": [
    "!head ~/scratch/project/project3/chr20_readcount_pos.txt"
   ]
  },
  {
   "cell_type": "code",
   "execution_count": 4,
   "id": "71aca26d",
   "metadata": {},
   "outputs": [
    {
     "data": {
      "image/png": "[encoded data removed]",
      "text/plain": [
       "<Figure size 1000x600 with 1 Axes>"
      ]
     },
     "metadata": {},
     "output_type": "display_data"
    }
   ],
   "source": [
    "#Plot your graph and show it here (matplotlib/seaborn)\n",
    "import matplotlib.pyplot as plt\n",
    "\n",
    "# Read data from the file and filter for chromosome 20\n",
    "x = []\n",
    "y = []\n",
    "with open(\"/home/hice1/akrishna311/scratch/project/project3/chr20_readcount_pos.txt\", \"r\") as file:\n",
    "    for line in file:\n",
    "        fields = line.split()\n",
    "        x.append(int(fields[0]))\n",
    "        y.append(int(fields[1]))\n",
    "\n",
    "# Create the plot\n",
    "plt.figure(figsize=(10, 6))\n",
    "plt.plot(x, y, label=\"Chromosome 20\")\n",
    "plt.title(\"Position vs. Read Count for Chromosome 20\")\n",
    "plt.xlabel(\"Position[60063 - 64332651]\")\n",
    "plt.ylabel(\"Read Count\")\n",
    "plt.legend()\n",
    "plt.grid(True)\n",
    "\n",
    "# Show the plot\n",
    "plt.show()"
   ]
  },
  {
   "cell_type": "markdown",
   "id": "a8b119fe",
   "metadata": {},
   "source": [
    "# **2. Variant calling**\n",
    "### *Total Questions: 3*\n",
    "### *Total Points: 50+30+10+40 = 130*\n",
    "\n",
    "\n",
    "---"
   ]
  },
  {
   "cell_type": "markdown",
   "id": "68860d7d",
   "metadata": {},
   "source": [
    "<div class=\"alert alert-block alert-warning\">\n",
    "    <h3>2.1 Call the variants (SNPs and Short Indels)</h3>\n",
    "    <p><b>2.1.1</b> Write the command used and justify the flags you have used using one sentence.</p>\n",
    "    <p><b>2.1.2</b> Informed decision.</p>\n",
    "</div>"
   ]
  },
  {
   "cell_type": "code",
   "execution_count": 20,
   "id": "e6bf56ef",
   "metadata": {},
   "outputs": [],
   "source": [
    "#Use VarScan for calling variants. Look up the appropriate command for this."
   ]
  },
  {
   "cell_type": "code",
   "execution_count": 12,
   "id": "54a06d13",
   "metadata": {},
   "outputs": [
    {
     "name": "stdout",
     "output_type": "stream",
     "text": [
      "VarScan v2.4.6\n",
      "\n",
      "***NON-COMMERCIAL VERSION***\n",
      "\n",
      "USAGE: java -jar VarScan.jar [COMMAND] [OPTIONS] \n",
      "\n",
      "COMMANDS:\n",
      "\tpileup2snp\t\tIdentify SNPs from a pileup file\n",
      "\tpileup2indel\t\tIdentify indels a pileup file\n",
      "\tpileup2cns\t\tCall consensus and variants from a pileup file\n",
      "\tmpileup2snp\t\tIdentify SNPs from an mpileup file\n",
      "\tmpileup2indel\t\tIdentify indels an mpileup file\n",
      "\tmpileup2cns\t\tCall consensus and variants from an mpileup file\n",
      "\n",
      "\tsomatic\t\t\tCall germline/somatic variants from tumor-normal pileups\n",
      "\tmpileup2somatic\t\tCall germline/somatic variants in multi-tumor-normal mpileup (beta feature in v2.4.5)\n",
      "\tcopynumber\t\tDetermine relative tumor copy number from tumor-normal pileups\n",
      "\treadcounts\t\tObtain read counts for a list of variants from a pileup file\n",
      "\n",
      "\tfilter\t\t\tFilter SNPs by coverage, frequency, p-value, etc.\n",
      "\tsomaticFilter\t\tFilter somatic variants for clusters/indels\n",
      "\tfpfilter\t\tApply the false-positive filter\n",
      "\n",
      "\tprocessSomatic\t\tIsolate Germline/LOH/Somatic calls from output\n",
      "\tcopyCaller\t\tGC-adjust and process copy number changes from VarScan copynumber output\n",
      "\tcompare\t\t\tCompare two lists of positions/variants\n",
      "\tlimit\t\t\tRestrict pileup/snps/indels to ROI positions\n",
      "\n",
      "\n",
      "Warning: No p-value threshold provided, so p-values will not be calculated\n",
      "Min coverage:\t8\n",
      "Min reads2:\t2\n",
      "Min var freq:\t0.01\n",
      "Min avg qual:\t15\n",
      "P-value thresh:\t0.99\n",
      "USAGE: java -jar VarScan.jar pileup2cns [pileup file] OPTIONS\n",
      "\tpileup file - The SAMtools pileup file\n",
      "\n",
      "\tOPTIONS:\n",
      "\t--min-coverage\tMinimum read depth at a position to make a call [8]\n",
      "\t--min-reads2\tMinimum supporting reads at a position to call variants [2]\n",
      "\t--min-avg-qual\tMinimum base quality at a position to count a read [15]\n",
      "\t--min-var-freq\tMinimum variant allele frequency threshold [0.01]\n",
      "\t--min-freq-for-hom\tMinimum frequency to call homozygote [0.75]\n",
      "\t--p-value\tDefault p-value threshold for calling variants [99e-02]\n",
      "\t--variants\tReport only variant (SNP/indel) positions [0]\n"
     ]
    }
   ],
   "source": [
    "#check if varscan is working\n",
    "!varscan\n",
    "!varscan pileup2snp --help"
   ]
  },
  {
   "cell_type": "code",
   "execution_count": 61,
   "id": "d9a14504",
   "metadata": {},
   "outputs": [
    {
     "name": "stdout",
     "output_type": "stream",
     "text": [
      "Only SNPs will be reported\n",
      "Warning: No p-value threshold provided, so p-values will not be calculated\n",
      "Min coverage:\t30\n",
      "Min reads2:\t10\n",
      "Min var freq:\t0.2\n",
      "Min avg qual:\t15\n",
      "P-value thresh:\t0.01\n",
      "Reading input from /home/hice1/akrishna311/scratch/project/project3/SRR070501.mpileup\n",
      "631429099 bases in pileup file\n",
      "18251 variant positions (17262 SNP, 989 indel)\n",
      "764 were failed by the strand-filter\n",
      "16516 variant positions reported (16516 SNP, 0 indel)\n"
     ]
    }
   ],
   "source": [
    "#Running VarScan \n",
    "!varscan mpileup2snp ~/scratch/project/project3/SRR070501.mpileup --min-coverage 30 --min-reads2 10 --output-vcf > ~/scratch/project/project3/SRR070501.vcf"
   ]
  },
  {
   "cell_type": "code",
   "execution_count": 18,
   "id": "1eca74a1",
   "metadata": {},
   "outputs": [],
   "source": [
    "#Make an informed decision (based on section 1) about the parameters used for calling the variants.\n",
    "#There is no specific answer to this, but the idea is to look into the flags used, and make sure they make sense."
   ]
  },
  {
   "cell_type": "markdown",
   "id": "c61a8943",
   "metadata": {},
   "source": [
    "<code> --min-coverage </code> - SNP caller needs a minimal level of coverage to be reliable. So we went ahead with mean coverage of 30× as this will lead to confident SNP scores and tolerates areas with somewhat lower coverage. <br>\n",
    "<code> --min-reads2 </code> - it specifies that minimum reads supporting the variant, increasing confidence in the variant call. <br>\n",
    "<code>--output-vcf </code> - Outputs the content in VCF format"
   ]
  },
  {
   "cell_type": "code",
   "execution_count": 62,
   "id": "e1bcb347",
   "metadata": {},
   "outputs": [
    {
     "name": "stdout",
     "output_type": "stream",
     "text": [
      "-rw-r--r-- 1 akrishna311 gtperson 2.7M Nov  3 22:23 /home/hice1/akrishna311/scratch/project/project3/SRR070501.vcf\n",
      "##fileformat=VCFv4.3\n",
      "##source=VarScan2\n",
      "##INFO=<ID=ADP,Number=1,Type=Integer,Description=\"Average per-sample depth of bases with Phred score >= 15\">\n",
      "##INFO=<ID=WT,Number=1,Type=Integer,Description=\"Number of samples called reference (wild-type)\">\n",
      "##INFO=<ID=HET,Number=1,Type=Integer,Description=\"Number of samples called heterozygous-variant\">\n",
      "##INFO=<ID=HOM,Number=1,Type=Integer,Description=\"Number of samples called homozygous-variant\">\n",
      "##INFO=<ID=NC,Number=1,Type=Integer,Description=\"Number of samples not called\">\n",
      "##FILTER=<ID=str10,Description=\"Less than 10% or more than 90% of variant supporting reads on one strand\">\n",
      "##FILTER=<ID=indelError,Description=\"Likely artifact due to indel reads at this position\">\n",
      "##FORMAT=<ID=GT,Number=1,Type=String,Description=\"Genotype\">\n",
      "##FORMAT=<ID=GQ,Number=1,Type=Integer,Description=\"Genotype Quality\">\n",
      "##FORMAT=<ID=SDP,Number=1,Type=Integer,Description=\"Raw Read Depth as reported by SAMtools\">\n",
      "##FORMAT=<ID=DP,Number=1,Type=Integer,Description=\"Quality Read Depth of bases with Phred score >= 15\">\n",
      "##FORMAT=<ID=RD,Number=1,Type=Integer,Description=\"Depth of reference-supporting bases (reads1)\">\n",
      "##FORMAT=<ID=AD,Number=1,Type=Integer,Description=\"Depth of variant-supporting bases (reads2)\">\n",
      "##FORMAT=<ID=FREQ,Number=1,Type=String,Description=\"Variant allele frequency\">\n",
      "##FORMAT=<ID=PVAL,Number=1,Type=String,Description=\"P-value from Fisher's Exact Test\">\n",
      "##FORMAT=<ID=RBQ,Number=1,Type=Integer,Description=\"Average quality of reference-supporting bases (qual1)\">\n",
      "##FORMAT=<ID=ABQ,Number=1,Type=Integer,Description=\"Average quality of variant-supporting bases (qual2)\">\n",
      "##FORMAT=<ID=RDF,Number=1,Type=Integer,Description=\"Depth of reference-supporting bases on forward strand (reads1plus)\">\n"
     ]
    }
   ],
   "source": [
    "#checking the VCF file\n",
    "!ls -lh ~/scratch/project/project3/SRR070501.vcf\n",
    "!head -20 ~/scratch/project/project3/SRR070501.vcf"
   ]
  },
  {
   "cell_type": "code",
   "execution_count": 63,
   "id": "99c50d5f",
   "metadata": {},
   "outputs": [
    {
     "name": "stdout",
     "output_type": "stream",
     "text": [
      "#CHROM\tPOS\tID\tREF\tALT\tQUAL\tFILTER\tINFO\tFORMAT\tSample1\r\n",
      "NC_000001.11\t30315\t.\tG\tC\t.\tPASS\tADP=100;WT=0;HET=1;HOM=0;NC=0\tGT:GQ:SDP:DP:RD:AD:FREQ:PVAL:RBQ:ABQ:RDF:RDR:ADF:ADR\t0/1:82:100:100:75:25:25%:5.3634E-9:32:35:39:36:20:5\r\n",
      "NC_000001.11\t30376\t.\tC\tT\t.\tPASS\tADP=64;WT=0;HET=1;HOM=0;NC=0\tGT:GQ:SDP:DP:RD:AD:FREQ:PVAL:RBQ:ABQ:RDF:RDR:ADF:ADR\t0/1:45:64:64:50:14:21.88%:2.7518E-5:35:36:10:40:4:10\r\n",
      "NC_000001.11\t30411\t.\tG\tT\t.\tPASS\tADP=69;WT=0;HET=1;HOM=0;NC=0\tGT:GQ:SDP:DP:RD:AD:FREQ:PVAL:RBQ:ABQ:RDF:RDR:ADF:ADR\t0/1:71:69:69:48:21:30.43%:7.9107E-8:34:34:2:46:3:18\r\n",
      "NC_000001.11\t200876\t.\tG\tT\t.\tPASS\tADP=67;WT=0;HET=1;HOM=0;NC=0\tGT:GQ:SDP:DP:RD:AD:FREQ:PVAL:RBQ:ABQ:RDF:RDR:ADF:ADR\t0/1:48:67:67:52:15:22.39%:1.2648E-5:35:35:19:33:4:11\r\n",
      "NC_000001.11\t200890\t.\tC\tT\t.\tPASS\tADP=53;WT=0;HET=1;HOM=0;NC=0\tGT:GQ:SDP:DP:RD:AD:FREQ:PVAL:RBQ:ABQ:RDF:RDR:ADF:ADR\t0/1:46:53:53:39:14:26.42%:2.2741E-5:35:34:12:27:4:10\r\n",
      "NC_000001.11\t450718\t.\tT\tC\t.\tPASS\tADP=90;WT=0;HET=1;HOM=0;NC=0\tGT:GQ:SDP:DP:RD:AD:FREQ:PVAL:RBQ:ABQ:RDF:RDR:ADF:ADR\t0/1:61:90:90:71:19:21.11%:6.6006E-7:37:37:70:1:17:2\r\n",
      "NC_000001.11\t629418\t.\tT\tC\t.\tPASS\tADP=48;WT=0;HET=0;HOM=1;NC=0\tGT:GQ:SDP:DP:RD:AD:FREQ:PVAL:RBQ:ABQ:RDF:RDR:ADF:ADR\t1/1:255:48:48:0:48:100%:1.554E-28:0:36:0:0:16:32\r\n",
      "NC_000001.11\t629906\t.\tC\tT\t.\tPASS\tADP=37;WT=0;HET=0;HOM=1;NC=0\tGT:GQ:SDP:DP:RD:AD:FREQ:PVAL:RBQ:ABQ:RDF:RDR:ADF:ADR\t1/1:196:37:37:1:36:97.3%:2.1762E-20:25:34:1:0:19:17\r\n",
      "NC_000001.11\t629994\t.\tA\tG\t.\tPASS\tADP=39;WT=0;HET=0;HOM=1;NC=0\tGT:GQ:SDP:DP:RD:AD:FREQ:PVAL:RBQ:ABQ:RDF:RDR:ADF:ADR\t1/1:224:39:39:0:39:100%:3.6742E-23:0:35:0:0:15:24\r\n",
      "grep: write error\r\n",
      "cat: write error: Broken pipe\r\n"
     ]
    }
   ],
   "source": [
    "#Checking the content of VCF file\n",
    "!cat ~/scratch/project/project3/SRR070501.vcf | grep -v \"##\" | head"
   ]
  },
  {
   "cell_type": "markdown",
   "id": "b9e448c4",
   "metadata": {},
   "source": [
    "<div class=\"alert alert-block alert-warning\">\n",
    "    <h3>2.2 Select any random variant in your VCF file which lies between the positions 20,800,000 and 30,800,000 on chromosome 16</h3>\n",
    "    <p><b>Q.</b> What is the average depth of bases for this variant called on chromosome 16</p>\n",
    "</div>"
   ]
  },
  {
   "cell_type": "markdown",
   "id": "c03fd251",
   "metadata": {},
   "source": [
    "#### Zipping the file for using it with bcftools"
   ]
  },
  {
   "cell_type": "code",
   "execution_count": 64,
   "id": "e8304789",
   "metadata": {},
   "outputs": [],
   "source": [
    "#zip VCF file to create BGZ file\n",
    "!bgzip -c ~/scratch/project/project3/SRR070501.vcf > ~/scratch/project/project3/SRR070501.vcf.bgz "
   ]
  },
  {
   "cell_type": "code",
   "execution_count": 65,
   "id": "70044769",
   "metadata": {},
   "outputs": [
    {
     "name": "stdout",
     "output_type": "stream",
     "text": [
      "/home/hice1/akrishna311/scratch/project/project3/SRR070501.vcf.bgz:\tVCF version 4.3 BGZF-compressed variant calling data\r\n"
     ]
    }
   ],
   "source": [
    "#to check if the BGZ file was created successfully\n",
    "!htsfile ~/scratch/project/project3/SRR070501.vcf.bgz"
   ]
  },
  {
   "cell_type": "code",
   "execution_count": 67,
   "id": "d912f838",
   "metadata": {},
   "outputs": [
    {
     "name": "stdout",
     "output_type": "stream",
     "text": [
      "#CHROM\tPOS\tID\tREF\tALT\tQUAL\tFILTER\tINFO\tFORMAT\tSample1\r\n",
      "NC_000001.11\t30315\t.\tG\tC\t.\tPASS\tADP=100;WT=0;HET=1;HOM=0;NC=0\tGT:GQ:SDP:DP:RD:AD:FREQ:PVAL:RBQ:ABQ:RDF:RDR:ADF:ADR\t0/1:82:100:100:75:25:25%:5.3634E-9:32:35:39:36:20:5\r\n",
      "NC_000001.11\t30376\t.\tC\tT\t.\tPASS\tADP=64;WT=0;HET=1;HOM=0;NC=0\tGT:GQ:SDP:DP:RD:AD:FREQ:PVAL:RBQ:ABQ:RDF:RDR:ADF:ADR\t0/1:45:64:64:50:14:21.88%:2.7518E-5:35:36:10:40:4:10\r\n",
      "NC_000001.11\t30411\t.\tG\tT\t.\tPASS\tADP=69;WT=0;HET=1;HOM=0;NC=0\tGT:GQ:SDP:DP:RD:AD:FREQ:PVAL:RBQ:ABQ:RDF:RDR:ADF:ADR\t0/1:71:69:69:48:21:30.43%:7.9107E-8:34:34:2:46:3:18\r\n",
      "NC_000001.11\t200876\t.\tG\tT\t.\tPASS\tADP=67;WT=0;HET=1;HOM=0;NC=0\tGT:GQ:SDP:DP:RD:AD:FREQ:PVAL:RBQ:ABQ:RDF:RDR:ADF:ADR\t0/1:48:67:67:52:15:22.39%:1.2648E-5:35:35:19:33:4:11\r\n",
      "NC_000001.11\t200890\t.\tC\tT\t.\tPASS\tADP=53;WT=0;HET=1;HOM=0;NC=0\tGT:GQ:SDP:DP:RD:AD:FREQ:PVAL:RBQ:ABQ:RDF:RDR:ADF:ADR\t0/1:46:53:53:39:14:26.42%:2.2741E-5:35:34:12:27:4:10\r\n",
      "NC_000001.11\t450718\t.\tT\tC\t.\tPASS\tADP=90;WT=0;HET=1;HOM=0;NC=0\tGT:GQ:SDP:DP:RD:AD:FREQ:PVAL:RBQ:ABQ:RDF:RDR:ADF:ADR\t0/1:61:90:90:71:19:21.11%:6.6006E-7:37:37:70:1:17:2\r\n",
      "NC_000001.11\t629418\t.\tT\tC\t.\tPASS\tADP=48;WT=0;HET=0;HOM=1;NC=0\tGT:GQ:SDP:DP:RD:AD:FREQ:PVAL:RBQ:ABQ:RDF:RDR:ADF:ADR\t1/1:255:48:48:0:48:100%:1.554E-28:0:36:0:0:16:32\r\n",
      "NC_000001.11\t629906\t.\tC\tT\t.\tPASS\tADP=37;WT=0;HET=0;HOM=1;NC=0\tGT:GQ:SDP:DP:RD:AD:FREQ:PVAL:RBQ:ABQ:RDF:RDR:ADF:ADR\t1/1:196:37:37:1:36:97.3%:2.1762E-20:25:34:1:0:19:17\r\n",
      "NC_000001.11\t629994\t.\tA\tG\t.\tPASS\tADP=39;WT=0;HET=0;HOM=1;NC=0\tGT:GQ:SDP:DP:RD:AD:FREQ:PVAL:RBQ:ABQ:RDF:RDR:ADF:ADR\t1/1:224:39:39:0:39:100%:3.6742E-23:0:35:0:0:15:24\r\n",
      "grep: write error\r\n",
      "\r\n",
      "gzip: stdout: Broken pipe\r\n"
     ]
    }
   ],
   "source": [
    "#checking the content of zipped VCF file\n",
    "!zcat ~/scratch/project/project3/SRR070501.vcf.bgz | grep -v \"##\" | head"
   ]
  },
  {
   "cell_type": "code",
   "execution_count": 68,
   "id": "e587659d",
   "metadata": {},
   "outputs": [],
   "source": [
    "#creating index file for zipped VCF file to give it as input file for bcftools\n",
    "!tabix -p vcf ~/scratch/project/project3/SRR070501.vcf.bgz"
   ]
  },
  {
   "cell_type": "code",
   "execution_count": 69,
   "id": "6db3d661",
   "metadata": {},
   "outputs": [],
   "source": [
    "!bcftools view -r NC_000016.10:20800000-30800000 ~/scratch/project/project3/SRR070501.vcf.bgz -o ~/scratch/project/project3/SRR070501_pruned_chr16.vcf"
   ]
  },
  {
   "cell_type": "markdown",
   "id": "1d2e5f36",
   "metadata": {},
   "source": [
    "-r: filter using regions, chromosome number and position on the chromosome <br>\n",
    "-o: output file path"
   ]
  },
  {
   "cell_type": "code",
   "execution_count": 70,
   "id": "a6311294",
   "metadata": {},
   "outputs": [
    {
     "name": "stdout",
     "output_type": "stream",
     "text": [
      "##fileformat=VCFv4.3\r\n",
      "##FILTER=<ID=PASS,Description=\"All filters passed\">\r\n",
      "##source=VarScan2\r\n",
      "##INFO=<ID=ADP,Number=1,Type=Integer,Description=\"Average per-sample depth of bases with Phred score >= 15\">\r\n",
      "##INFO=<ID=WT,Number=1,Type=Integer,Description=\"Number of samples called reference (wild-type)\">\r\n",
      "##INFO=<ID=HET,Number=1,Type=Integer,Description=\"Number of samples called heterozygous-variant\">\r\n",
      "##INFO=<ID=HOM,Number=1,Type=Integer,Description=\"Number of samples called homozygous-variant\">\r\n",
      "##INFO=<ID=NC,Number=1,Type=Integer,Description=\"Number of samples not called\">\r\n",
      "##FILTER=<ID=str10,Description=\"Less than 10% or more than 90% of variant supporting reads on one strand\">\r\n",
      "##FILTER=<ID=indelError,Description=\"Likely artifact due to indel reads at this position\">\r\n",
      "##FORMAT=<ID=GT,Number=1,Type=String,Description=\"Genotype\">\r\n",
      "##FORMAT=<ID=GQ,Number=1,Type=Integer,Description=\"Genotype Quality\">\r\n",
      "##FORMAT=<ID=SDP,Number=1,Type=Integer,Description=\"Raw Read Depth as reported by SAMtools\">\r\n",
      "##FORMAT=<ID=DP,Number=1,Type=Integer,Description=\"Quality Read Depth of bases with Phred score >= 15\">\r\n",
      "##FORMAT=<ID=RD,Number=1,Type=Integer,Description=\"Depth of reference-supporting bases (reads1)\">\r\n",
      "##FORMAT=<ID=AD,Number=1,Type=Integer,Description=\"Depth of variant-supporting bases (reads2)\">\r\n",
      "##FORMAT=<ID=FREQ,Number=1,Type=String,Description=\"Variant allele frequency\">\r\n",
      "##FORMAT=<ID=PVAL,Number=1,Type=String,Description=\"P-value from Fisher's Exact Test\">\r\n",
      "##FORMAT=<ID=RBQ,Number=1,Type=Integer,Description=\"Average quality of reference-supporting bases (qual1)\">\r\n",
      "##FORMAT=<ID=ABQ,Number=1,Type=Integer,Description=\"Average quality of variant-supporting bases (qual2)\">\r\n",
      "##FORMAT=<ID=RDF,Number=1,Type=Integer,Description=\"Depth of reference-supporting bases on forward strand (reads1plus)\">\r\n",
      "##FORMAT=<ID=RDR,Number=1,Type=Integer,Description=\"Depth of reference-supporting bases on reverse strand (reads1minus)\">\r\n",
      "##FORMAT=<ID=ADF,Number=1,Type=Integer,Description=\"Depth of variant-supporting bases on forward strand (reads2plus)\">\r\n",
      "##FORMAT=<ID=ADR,Number=1,Type=Integer,Description=\"Depth of variant-supporting bases on reverse strand (reads2minus)\">\r\n",
      "##contig=<ID=NC_000001.11>\r\n",
      "##contig=<ID=NT_187361.1>\r\n",
      "##contig=<ID=NT_187366.1>\r\n",
      "##contig=<ID=NC_000002.12>\r\n",
      "##contig=<ID=NC_000003.12>\r\n",
      "##contig=<ID=NT_167215.1>\r\n",
      "##contig=<ID=NC_000004.12>\r\n",
      "##contig=<ID=NT_113793.3>\r\n",
      "##contig=<ID=NC_000005.10>\r\n",
      "##contig=<ID=NC_000006.12>\r\n",
      "##contig=<ID=NC_000007.14>\r\n",
      "##contig=<ID=NC_000008.11>\r\n",
      "##contig=<ID=NC_000009.12>\r\n",
      "##contig=<ID=NT_187373.1>\r\n",
      "##contig=<ID=NT_187374.1>\r\n",
      "##contig=<ID=NT_187375.1>\r\n",
      "##contig=<ID=NC_000010.11>\r\n",
      "##contig=<ID=NC_000011.10>\r\n",
      "##contig=<ID=NC_000012.12>\r\n",
      "##contig=<ID=NC_000013.11>\r\n",
      "##contig=<ID=NC_000014.9>\r\n",
      "##contig=<ID=NT_113796.3>\r\n",
      "##contig=<ID=NT_167219.1>\r\n",
      "##contig=<ID=NT_187378.1>\r\n",
      "##contig=<ID=NT_187379.1>\r\n",
      "##contig=<ID=NT_187380.1>\r\n",
      "##contig=<ID=NT_187381.1>\r\n",
      "##contig=<ID=NC_000015.10>\r\n",
      "##contig=<ID=NT_187382.1>\r\n",
      "##contig=<ID=NC_000016.10>\r\n",
      "##contig=<ID=NT_187383.1>\r\n",
      "##contig=<ID=NC_000017.11>\r\n",
      "##contig=<ID=NC_000018.10>\r\n",
      "##contig=<ID=NC_000019.10>\r\n",
      "##contig=<ID=NC_000020.11>\r\n",
      "##contig=<ID=NC_000021.9>\r\n",
      "##contig=<ID=NC_000022.11>\r\n",
      "##contig=<ID=NT_187387.1>\r\n",
      "##contig=<ID=NT_187388.1>\r\n",
      "##contig=<ID=NC_000023.11>\r\n",
      "##contig=<ID=NC_000024.10>\r\n",
      "##contig=<ID=NT_187420.1>\r\n",
      "##contig=<ID=NT_187421.1>\r\n",
      "##contig=<ID=NT_187423.1>\r\n",
      "##contig=<ID=NT_187425.1>\r\n",
      "##contig=<ID=NT_187461.1>\r\n",
      "##contig=<ID=NT_187466.1>\r\n",
      "##contig=<ID=NT_167213.1>\r\n",
      "##contig=<ID=NT_167214.1>\r\n",
      "##contig=<ID=NT_187499.1>\r\n",
      "##contig=<ID=NT_187501.1>\r\n",
      "##contig=<ID=NT_187506.1>\r\n",
      "##contig=<ID=NT_167209.1>\r\n",
      "##contig=<ID=NT_187513.1>\r\n",
      "##contig=<ID=NT_167211.2>\r\n",
      "##contig=<ID=NW_012132914.1>\r\n",
      "##contig=<ID=NW_015495298.1>\r\n",
      "##contig=<ID=NW_025791756.1>\r\n",
      "##contig=<ID=NW_018654706.1>\r\n",
      "##contig=<ID=NW_009646196.1>\r\n",
      "##contig=<ID=NW_025791753.1>\r\n",
      "##contig=<ID=NW_025791758.1>\r\n",
      "##contig=<ID=NW_025791759.1>\r\n",
      "##contig=<ID=NW_025791754.1>\r\n",
      "##contig=<ID=NW_025791755.1>\r\n",
      "##contig=<ID=NW_025791767.1>\r\n",
      "##contig=<ID=NW_025791766.1>\r\n",
      "##contig=<ID=NW_012132915.1>\r\n",
      "##contig=<ID=NW_025791760.1>\r\n",
      "##contig=<ID=NW_025791765.1>\r\n",
      "##contig=<ID=NW_025791762.1>\r\n",
      "##contig=<ID=NW_025791761.1>\r\n",
      "##contig=<ID=NW_018654710.1>\r\n",
      "##contig=<ID=NW_009646197.1>\r\n",
      "##contig=<ID=NW_021159991.1>\r\n",
      "##contig=<ID=NW_025791772.1>\r\n",
      "##contig=<ID=NW_015495301.1>\r\n",
      "##contig=<ID=NW_015495300.1>\r\n",
      "##contig=<ID=NW_025791777.1>\r\n",
      "##contig=<ID=NW_025791778.1>\r\n",
      "##contig=<ID=NW_016107298.1>\r\n",
      "##contig=<ID=NW_017852930.1>\r\n",
      "##contig=<ID=NW_018654714.1>\r\n",
      "##contig=<ID=NW_018654715.1>\r\n",
      "##contig=<ID=NW_025791785.1>\r\n",
      "##contig=<ID=NW_018654717.1>\r\n",
      "##contig=<ID=NW_025791784.1>\r\n",
      "##contig=<ID=NW_019805494.1>\r\n",
      "##contig=<ID=NW_025791789.1>\r\n",
      "##contig=<ID=NW_009646201.1>\r\n",
      "##contig=<ID=NW_021160000.1>\r\n",
      "##contig=<ID=NW_021160001.1>\r\n",
      "##contig=<ID=NW_025791794.1>\r\n",
      "##contig=<ID=NW_019805496.1>\r\n",
      "##contig=<ID=NW_019805495.1>\r\n",
      "##contig=<ID=NW_025791793.1>\r\n",
      "##contig=<ID=NW_011332696.1>\r\n",
      "##contig=<ID=NW_021160012.1>\r\n",
      "##contig=<ID=NW_011332699.1>\r\n",
      "##contig=<ID=NW_011332698.1>\r\n",
      "##contig=<ID=NW_021160013.1>\r\n",
      "##contig=<ID=NW_025791796.1>\r\n",
      "##contig=<ID=NW_018654722.1>\r\n",
      "##contig=<ID=NW_011332701.1>\r\n",
      "##contig=<ID=NW_021160018.1>\r\n",
      "##contig=<ID=NW_021160017.1>\r\n",
      "##contig=<ID=NW_025791798.1>\r\n",
      "##contig=<ID=NW_021160016.1>\r\n",
      "##contig=<ID=NW_021160015.1>\r\n",
      "##contig=<ID=NW_013171812.1>\r\n",
      "##contig=<ID=NW_017852933.1>\r\n",
      "##contig=<ID=NW_021160019.1>\r\n",
      "##contig=<ID=NW_025791800.1>\r\n",
      "##contig=<ID=NW_016107299.1>\r\n",
      "##contig=<ID=NW_017363819.1>\r\n",
      "##contig=<ID=NW_014040928.1>\r\n",
      "##contig=<ID=NW_025791807.1>\r\n",
      "##contig=<ID=NW_009646206.1>\r\n",
      "##contig=<ID=NW_025791811.1>\r\n",
      "##contig=<ID=NW_021160023.1>\r\n",
      "##contig=<ID=NW_021160026.1>\r\n",
      "##contig=<ID=NW_021160024.1>\r\n",
      "##contig=<ID=NW_009646209.1>\r\n",
      "##contig=<ID=NT_187517.1>\r\n",
      "##contig=<ID=NW_003315905.1>\r\n",
      "##contig=<ID=NT_187519.1>\r\n",
      "##contig=<ID=NT_187518.1>\r\n",
      "##contig=<ID=NW_003315913.1>\r\n",
      "##contig=<ID=NT_167250.2>\r\n",
      "##contig=<ID=NW_003315914.1>\r\n",
      "##contig=<ID=NT_187551.1>\r\n",
      "##contig=<ID=NW_003315917.2>\r\n",
      "##contig=<ID=NT_187546.1>\r\n",
      "##contig=<ID=NW_003315921.1>\r\n",
      "##contig=<ID=NT_187556.1>\r\n",
      "##contig=<ID=NT_187553.1>\r\n",
      "##contig=<ID=NT_187559.1>\r\n",
      "##contig=<ID=NW_003315922.2>\r\n",
      "##contig=<ID=NT_187562.1>\r\n",
      "##contig=<ID=NT_187576.1>\r\n",
      "##contig=<ID=NT_187570.1>\r\n",
      "##contig=<ID=NW_003871073.1>\r\n",
      "##contig=<ID=NW_003871074.1>\r\n",
      "##contig=<ID=NW_003571049.1>\r\n",
      "##contig=<ID=NW_003571050.1>\r\n",
      "##contig=<ID=NT_187588.1>\r\n",
      "##contig=<ID=NT_187587.1>\r\n",
      "##contig=<ID=NW_003315942.2>\r\n",
      "##contig=<ID=NT_187589.1>\r\n",
      "##contig=<ID=NT_187598.1>\r\n",
      "##contig=<ID=NT_187601.1>\r\n",
      "##contig=<ID=NT_187600.1>\r\n",
      "##contig=<ID=NT_187608.1>\r\n",
      "##contig=<ID=NT_187607.1>\r\n",
      "##contig=<ID=NT_187611.1>\r\n",
      "##contig=<ID=NT_187614.1>\r\n",
      "##contig=<ID=NW_003871091.1>\r\n",
      "##contig=<ID=NT_167251.2>\r\n",
      "##contig=<ID=NW_003315960.1>\r\n",
      "##contig=<ID=NW_003315964.2>\r\n",
      "##contig=<ID=NW_003315965.1>\r\n",
      "##contig=<ID=NW_003315970.2>\r\n",
      "##contig=<ID=NT_187629.1>\r\n",
      "##contig=<ID=NT_187646.1>\r\n",
      "##contig=<ID=NT_187648.1>\r\n",
      "##contig=<ID=NT_187650.1>\r\n",
      "##contig=<ID=NT_187651.1>\r\n",
      "##contig=<ID=NT_187652.1>\r\n",
      "##contig=<ID=NT_113891.3>\r\n",
      "##contig=<ID=NT_187657.1>\r\n",
      "##contig=<ID=NT_187658.1>\r\n",
      "##contig=<ID=NT_187661.1>\r\n",
      "##contig=<ID=NT_187663.1>\r\n",
      "##contig=<ID=NT_167245.2>\r\n",
      "##contig=<ID=NT_167248.2>\r\n",
      "##contig=<ID=NC_012920.1>\r\n",
      "##bcftools_viewVersion=1.17+htslib-1.18\r\n",
      "##bcftools_viewCommand=view -r NC_000016.10:20800000-30800000 -o /home/hice1/akrishna311/scratch/project/project3/SRR070501_pruned_chr16.vcf /home/hice1/akrishna311/scratch/project/project3/SRR070501.vcf.bgz; Date=Fri Nov  3 22:41:44 2023\r\n",
      "#CHROM\tPOS\tID\tREF\tALT\tQUAL\tFILTER\tINFO\tFORMAT\tSample1\r\n",
      "NC_000016.10\t20800359\t.\tC\tT\t.\tPASS\tADP=65;WT=0;HET=1;HOM=0;NC=0\tGT:GQ:SDP:DP:RD:AD:FREQ:PVAL:RBQ:ABQ:RDF:RDR:ADF:ADR\t0/1:100:65:65:37:28:43.08%:8.9089E-11:34:34:12:25:16:12\r\n",
      "NC_000016.10\t20843987\t.\tA\tG\t.\tPASS\tADP=37;WT=0;HET=0;HOM=1;NC=0\tGT:GQ:SDP:DP:RD:AD:FREQ:PVAL:RBQ:ABQ:RDF:RDR:ADF:ADR\t1/1:212:37:37:0:37:100%:5.7269E-22:0:34:0:0:20:17\r\n",
      "NC_000016.10\t20862445\t.\tT\tG\t.\tPASS\tADP=69;WT=0;HET=1;HOM=0;NC=0\tGT:GQ:SDP:DP:RD:AD:FREQ:PVAL:RBQ:ABQ:RDF:RDR:ADF:ADR\t0/1:99:69:69:41:28:40.58%:1.1744E-10:31:33:18:23:13:15\r\n",
      "NC_000016.10\t21039887\t.\tG\tC\t.\tPASS\tADP=59;WT=0;HET=1;HOM=0;NC=0\tGT:GQ:SDP:DP:RD:AD:FREQ:PVAL:RBQ:ABQ:RDF:RDR:ADF:ADR\t0/1:112:59:59:29:30:50.85%:6.2104E-12:34:33:15:14:16:14\r\n",
      "NC_000016.10\t21067372\t.\tT\tG\t.\tPASS\tADP=49;WT=0;HET=1;HOM=0;NC=0\tGT:GQ:SDP:DP:RD:AD:FREQ:PVAL:RBQ:ABQ:RDF:RDR:ADF:ADR\t0/1:62:49:49:31:18:36.73%:5.6162E-7:34:32:12:19:12:6\r\n",
      "NC_000016.10\t21125156\t.\tA\tG\t.\tPASS\tADP=31;WT=0;HET=0;HOM=1;NC=0\tGT:GQ:SDP:DP:RD:AD:FREQ:PVAL:RBQ:ABQ:RDF:RDR:ADF:ADR\t1/1:176:31:31:0:31:100%:2.1486E-18:0:34:0:0:26:5\r\n",
      "NC_000016.10\t21205740\t.\tG\tA\t.\tPASS\tADP=31;WT=0;HET=1;HOM=0;NC=0\tGT:GQ:SDP:DP:RD:AD:FREQ:PVAL:RBQ:ABQ:RDF:RDR:ADF:ADR\t0/1:41:31:31:19:12:38.71%:6.5329E-5:35:35:7:12:7:5\r\n",
      "NC_000016.10\t21211351\t.\tC\tA\t.\tPASS\tADP=49;WT=0;HET=1;HOM=0;NC=0\tGT:GQ:SDP:DP:RD:AD:FREQ:PVAL:RBQ:ABQ:RDF:RDR:ADF:ADR\t0/1:79:49:49:27:22:44.9%:1.1173E-8:35:32:17:10:9:13\r\n",
      "NC_000016.10\t21753152\t.\tT\tG\t.\tPASS\tADP=34;WT=0;HET=1;HOM=0;NC=0\tGT:GQ:SDP:DP:RD:AD:FREQ:PVAL:RBQ:ABQ:RDF:RDR:ADF:ADR\t0/1:49:34:34:20:14:41.18%:1.1295E-5:33:36:2:18:0:14\r\n",
      "NC_000016.10\t21839223\t.\tT\tC\t.\tPASS\tADP=70;WT=0;HET=1;HOM=0;NC=0\tGT:GQ:SDP:DP:RD:AD:FREQ:PVAL:RBQ:ABQ:RDF:RDR:ADF:ADR\t0/1:52:70:70:54:16:22.86%:5.8055E-6:33:36:30:24:6:10\r\n",
      "NC_000016.10\t22532147\t.\tA\tG\t.\tPASS\tADP=68;WT=0;HET=1;HOM=0;NC=0\tGT:GQ:SDP:DP:RD:AD:FREQ:PVAL:RBQ:ABQ:RDF:RDR:ADF:ADR\t0/1:45:68:68:54:14:20.59%:2.8994E-5:34:36:20:34:10:4\r\n",
      "NC_000016.10\t22569290\t.\tT\tG\t.\tPASS\tADP=31;WT=0;HET=1;HOM=0;NC=0\tGT:GQ:SDP:DP:RD:AD:FREQ:PVAL:RBQ:ABQ:RDF:RDR:ADF:ADR\t0/1:41:31:31:19:12:38.71%:6.5329E-5:34:35:4:15:3:9\r\n",
      "NC_000016.10\t23068032\t.\tT\tC\t.\tPASS\tADP=44;WT=0;HET=0;HOM=1;NC=0\tGT:GQ:SDP:DP:RD:AD:FREQ:PVAL:RBQ:ABQ:RDF:RDR:ADF:ADR\t1/1:254:44:44:0:44:100%:3.8097E-26:0:35:0:0:27:17\r\n",
      "NC_000016.10\t23087148\t.\tT\tC\t.\tPASS\tADP=31;WT=0;HET=1;HOM=0;NC=0\tGT:GQ:SDP:DP:RD:AD:FREQ:PVAL:RBQ:ABQ:RDF:RDR:ADF:ADR\t0/1:50:31:31:17:14:45.16%:9.1194E-6:33:35:9:8:8:6\r\n",
      "NC_000016.10\t23352760\t.\tA\tC\t.\tPASS\tADP=42;WT=0;HET=1;HOM=0;NC=0\tGT:GQ:SDP:DP:RD:AD:FREQ:PVAL:RBQ:ABQ:RDF:RDR:ADF:ADR\t0/1:77:42:42:21:21:50%:1.6451E-8:36:36:13:8:13:8\r\n",
      "NC_000016.10\t23478390\t.\tC\tG\t.\tPASS\tADP=32;WT=0;HET=0;HOM=1;NC=0\tGT:GQ:SDP:DP:RD:AD:FREQ:PVAL:RBQ:ABQ:RDF:RDR:ADF:ADR\t1/1:182:33:32:0:32:100%:5.4567E-19:0:35:0:0:15:17\r\n",
      "NC_000016.10\t23524359\t.\tA\tC\t.\tPASS\tADP=43;WT=0;HET=0;HOM=1;NC=0\tGT:GQ:SDP:DP:RD:AD:FREQ:PVAL:RBQ:ABQ:RDF:RDR:ADF:ADR\t1/1:248:43:43:0:43:100%:1.5066E-25:0:35:0:0:27:16\r\n",
      "NC_000016.10\t23525210\t.\tC\tT\t.\tPASS\tADP=39;WT=0;HET=0;HOM=1;NC=0\tGT:GQ:SDP:DP:RD:AD:FREQ:PVAL:RBQ:ABQ:RDF:RDR:ADF:ADR\t1/1:224:39:39:0:39:100%:3.6742E-23:0:34:0:0:28:11\r\n",
      "NC_000016.10\t23525363\t.\tT\tC\t.\tPASS\tADP=42;WT=0;HET=0;HOM=1;NC=0\tGT:GQ:SDP:DP:RD:AD:FREQ:PVAL:RBQ:ABQ:RDF:RDR:ADF:ADR\t1/1:242:42:42:0:42:100%:5.9562E-25:0:34:0:0:18:24\r\n",
      "NC_000016.10\t23552180\t.\tC\tT\t.\tPASS\tADP=43;WT=0;HET=0;HOM=1;NC=0\tGT:GQ:SDP:DP:RD:AD:FREQ:PVAL:RBQ:ABQ:RDF:RDR:ADF:ADR\t1/1:248:43:43:0:43:100%:1.5066E-25:0:32:0:0:25:18\r\n",
      "NC_000016.10\t23710280\t.\tT\tG\t.\tPASS\tADP=47;WT=0;HET=0;HOM=1;NC=0\tGT:GQ:SDP:DP:RD:AD:FREQ:PVAL:RBQ:ABQ:RDF:RDR:ADF:ADR\t1/1:255:47:47:0:47:100%:6.1512E-28:0:35:0:0:29:18\r\n",
      "NC_000016.10\t23757481\t.\tT\tG\t.\tPASS\tADP=58;WT=0;HET=0;HOM=1;NC=0\tGT:GQ:SDP:DP:RD:AD:FREQ:PVAL:RBQ:ABQ:RDF:RDR:ADF:ADR\t1/1:255:58:58:0:58:100%:1.6283E-34:0:35:0:0:45:13\r\n",
      "NC_000016.10\t24567137\t.\tT\tC\t.\tPASS\tADP=54;WT=0;HET=1;HOM=0;NC=0\tGT:GQ:SDP:DP:RD:AD:FREQ:PVAL:RBQ:ABQ:RDF:RDR:ADF:ADR\t0/1:69:55:54:34:20:37.04%:1.0949E-7:36:34:32:2:20:0\r\n",
      "NC_000016.10\t24570978\t.\tC\tG\t.\tPASS\tADP=37;WT=0;HET=1;HOM=0;NC=0\tGT:GQ:SDP:DP:RD:AD:FREQ:PVAL:RBQ:ABQ:RDF:RDR:ADF:ADR\t0/1:66:37:37:19:18:48.65%:2.432E-7:36:36:10:9:12:6\r\n",
      "NC_000016.10\t24572085\t.\tA\tG\t.\tPASS\tADP=39;WT=0;HET=1;HOM=0;NC=0\tGT:GQ:SDP:DP:RD:AD:FREQ:PVAL:RBQ:ABQ:RDF:RDR:ADF:ADR\t0/1:60:39:39:22:17:43.59%:8.1342E-7:35:33:9:13:5:12\r\n",
      "NC_000016.10\t24877325\t.\tT\tC\t.\tPASS\tADP=47;WT=0;HET=1;HOM=0;NC=0\tGT:GQ:SDP:DP:RD:AD:FREQ:PVAL:RBQ:ABQ:RDF:RDR:ADF:ADR\t0/1:80:47:47:25:22:46.81%:9.3895E-9:34:34:4:21:5:17\r\n",
      "NC_000016.10\t27761580\t.\tG\tA\t.\tPASS\tADP=35;WT=0;HET=0;HOM=1;NC=0\tGT:GQ:SDP:DP:RD:AD:FREQ:PVAL:RBQ:ABQ:RDF:RDR:ADF:ADR\t1/1:200:35:35:0:35:100%:8.9137E-21:0:32:0:0:11:24\r\n",
      "NC_000016.10\t28392150\t.\tC\tA\t.\tPASS\tADP=118;WT=0;HET=1;HOM=0;NC=0\tGT:GQ:SDP:DP:RD:AD:FREQ:PVAL:RBQ:ABQ:RDF:RDR:ADF:ADR\t0/1:166:118:118:71:47:39.83%:2.2321E-17:33:35:14:57:3:44\r\n",
      "NC_000016.10\t28590481\t.\tG\tA\t.\tPASS\tADP=31;WT=0;HET=1;HOM=0;NC=0\tGT:GQ:SDP:DP:RD:AD:FREQ:PVAL:RBQ:ABQ:RDF:RDR:ADF:ADR\t0/1:46:31:31:18:13:41.94%:2.4825E-5:34:34:16:2:13:0\r\n",
      "NC_000016.10\t28592334\t.\tT\tG\t.\tPASS\tADP=58;WT=0;HET=1;HOM=0;NC=0\tGT:GQ:SDP:DP:RD:AD:FREQ:PVAL:RBQ:ABQ:RDF:RDR:ADF:ADR\t0/1:122:58:58:26:32:55.17%:5.693E-13:32:33:11:15:14:18\r\n",
      "NC_000016.10\t28592475\t.\tT\tC\t.\tPASS\tADP=45;WT=0;HET=1;HOM=0;NC=0\tGT:GQ:SDP:DP:RD:AD:FREQ:PVAL:RBQ:ABQ:RDF:RDR:ADF:ADR\t0/1:51:45:45:30:15:33.33%:7.5306E-6:34:35:0:30:2:13\r\n",
      "NC_000016.10\t28606916\t.\tT\tC\t.\tPASS\tADP=37;WT=0;HET=1;HOM=0;NC=0\tGT:GQ:SDP:DP:RD:AD:FREQ:PVAL:RBQ:ABQ:RDF:RDR:ADF:ADR\t0/1:85:37:37:15:22:59.46%:2.5665E-9:34:34:9:6:10:12\r\n",
      "NC_000016.10\t28606917\t.\tA\tG\t.\tPASS\tADP=35;WT=0;HET=0;HOM=1;NC=0\tGT:GQ:SDP:DP:RD:AD:FREQ:PVAL:RBQ:ABQ:RDF:RDR:ADF:ADR\t1/1:200:36:35:0:35:100%:8.9137E-21:0:33:0:0:18:17\r\n",
      "NC_000016.10\t28701481\t.\tT\tC\t.\tPASS\tADP=52;WT=0;HET=1;HOM=0;NC=0\tGT:GQ:SDP:DP:RD:AD:FREQ:PVAL:RBQ:ABQ:RDF:RDR:ADF:ADR\t0/1:46:52:52:38:14:26.92%:2.2247E-5:34:34:8:30:5:9\r\n",
      "NC_000016.10\t28723156\t.\tG\tT\t.\tPASS\tADP=120;WT=0;HET=1;HOM=0;NC=0\tGT:GQ:SDP:DP:RD:AD:FREQ:PVAL:RBQ:ABQ:RDF:RDR:ADF:ADR\t0/1:161:120:120:74:46:38.33%:6.6078E-17:35:35:58:16:41:5\r\n",
      "NC_000016.10\t28772163\t.\tC\tT\t.\tPASS\tADP=51;WT=0;HET=1;HOM=0;NC=0\tGT:GQ:SDP:DP:RD:AD:FREQ:PVAL:RBQ:ABQ:RDF:RDR:ADF:ADR\t0/1:35:51:51:40:11:21.57%:2.6733E-4:35:33:25:15:11:0\r\n",
      "NC_000016.10\t28832963\t.\tA\tG\t.\tPASS\tADP=58;WT=0;HET=0;HOM=1;NC=0\tGT:GQ:SDP:DP:RD:AD:FREQ:PVAL:RBQ:ABQ:RDF:RDR:ADF:ADR\t1/1:255:58:58:0:58:100%:1.6283E-34:0:35:0:0:43:15\r\n",
      "NC_000016.10\t28833044\t.\tG\tA\t.\tPASS\tADP=75;WT=0;HET=0;HOM=1;NC=0\tGT:GQ:SDP:DP:RD:AD:FREQ:PVAL:RBQ:ABQ:RDF:RDR:ADF:ADR\t1/1:255:75:75:0:75:100%:1.0773E-44:0:33:0:0:44:31\r\n",
      "NC_000016.10\t28887472\t.\tT\tC\t.\tPASS\tADP=32;WT=0;HET=1;HOM=0;NC=0\tGT:GQ:SDP:DP:RD:AD:FREQ:PVAL:RBQ:ABQ:RDF:RDR:ADF:ADR\t0/1:33:32:32:22:10:31.25%:4.259E-4:33:35:17:5:9:1\r\n",
      "NC_000016.10\t29052305\t.\tC\tA\t.\tPASS\tADP=54;WT=0;HET=1;HOM=0;NC=0\tGT:GQ:SDP:DP:RD:AD:FREQ:PVAL:RBQ:ABQ:RDF:RDR:ADF:ADR\t0/1:53:54:54:38:16:29.63%:4.1444E-6:34:34:15:23:5:11\r\n",
      "NC_000016.10\t29385768\t.\tT\tC\t.\tPASS\tADP=72;WT=0;HET=1;HOM=0;NC=0\tGT:GQ:SDP:DP:RD:AD:FREQ:PVAL:RBQ:ABQ:RDF:RDR:ADF:ADR\t0/1:59:72:72:54:18:25%:1.1337E-6:34:34:35:19:8:10\r\n",
      "NC_000016.10\t29461490\t.\tA\tG\t.\tPASS\tADP=62;WT=0;HET=1;HOM=0;NC=0\tGT:GQ:SDP:DP:RD:AD:FREQ:PVAL:RBQ:ABQ:RDF:RDR:ADF:ADR\t0/1:49:62:62:47:15:24.19%:1.1665E-5:34:34:29:18:4:11\r\n",
      "NC_000016.10\t29487312\t.\tT\tC\t.\tPASS\tADP=70;WT=0;HET=1;HOM=0;NC=0\tGT:GQ:SDP:DP:RD:AD:FREQ:PVAL:RBQ:ABQ:RDF:RDR:ADF:ADR\t0/1:67:71:70:50:20:28.57%:1.9571E-7:33:34:20:30:11:9\r\n",
      "NC_000016.10\t29565490\t.\tA\tG\t.\tPASS\tADP=47;WT=0;HET=1;HOM=0;NC=0\tGT:GQ:SDP:DP:RD:AD:FREQ:PVAL:RBQ:ABQ:RDF:RDR:ADF:ADR\t0/1:62:47:47:29:18:38.3%:5.072E-7:35:36:13:16:5:13\r\n",
      "NC_000016.10\t29983415\t.\tT\tA\t.\tPASS\tADP=39;WT=0;HET=1;HOM=0;NC=0\tGT:GQ:SDP:DP:RD:AD:FREQ:PVAL:RBQ:ABQ:RDF:RDR:ADF:ADR\t0/1:69:39:39:20:19:48.72%:1.0268E-7:35:34:18:2:19:0\r\n",
      "NC_000016.10\t29983601\t.\tC\tT\t.\tPASS\tADP=61;WT=0;HET=1;HOM=0;NC=0\tGT:GQ:SDP:DP:RD:AD:FREQ:PVAL:RBQ:ABQ:RDF:RDR:ADF:ADR\t0/1:120:62:61:29:32:52.46%:8.637E-13:32:30:27:2:29:3\r\n",
      "NC_000016.10\t30200833\t.\tA\tG\t.\tPASS\tADP=64;WT=0;HET=1;HOM=0;NC=0\tGT:GQ:SDP:DP:RD:AD:FREQ:PVAL:RBQ:ABQ:RDF:RDR:ADF:ADR\t0/1:56:64:64:47:17:26.56%:2.243E-6:35:34:23:24:8:9\r\n",
      "NC_000016.10\t30203568\t.\tA\tG\t.\tPASS\tADP=94;WT=0;HET=1;HOM=0;NC=0\tGT:GQ:SDP:DP:RD:AD:FREQ:PVAL:RBQ:ABQ:RDF:RDR:ADF:ADR\t0/1:86:94:94:68:26:27.66%:2E-9:33:34:42:26:14:12\r\n",
      "NC_000016.10\t30227282\t.\tT\tC\t.\tPASS\tADP=78;WT=0;HET=1;HOM=0;NC=0\tGT:GQ:SDP:DP:RD:AD:FREQ:PVAL:RBQ:ABQ:RDF:RDR:ADF:ADR\t0/1:73:78:78:56:22:28.21%:4.2487E-8:33:33:23:33:11:11\r\n",
      "NC_000016.10\t30285384\t.\tT\tC\t.\tPASS\tADP=33;WT=0;HET=1;HOM=0;NC=0\tGT:GQ:SDP:DP:RD:AD:FREQ:PVAL:RBQ:ABQ:RDF:RDR:ADF:ADR\t0/1:45:33:33:20:13:39.39%:2.8029E-5:34:35:2:18:3:10\r\n",
      "NC_000016.10\t30305194\t.\tA\tG\t.\tPASS\tADP=49;WT=0;HET=1;HOM=0;NC=0\tGT:GQ:SDP:DP:RD:AD:FREQ:PVAL:RBQ:ABQ:RDF:RDR:ADF:ADR\t0/1:62:49:49:31:18:36.73%:5.6162E-7:35:34:11:20:4:14\r\n",
      "NC_000016.10\t30336410\t.\tA\tG\t.\tPASS\tADP=39;WT=0;HET=1;HOM=0;NC=0\tGT:GQ:SDP:DP:RD:AD:FREQ:PVAL:RBQ:ABQ:RDF:RDR:ADF:ADR\t0/1:94:40:39:15:24:61.54%:3.1797E-10:34:35:11:4:17:7\r\n",
      "NC_000016.10\t30354718\t.\tG\tA\t.\tPASS\tADP=38;WT=0;HET=1;HOM=0;NC=0\tGT:GQ:SDP:DP:RD:AD:FREQ:PVAL:RBQ:ABQ:RDF:RDR:ADF:ADR\t0/1:48:38:38:24:14:36.84%:1.407E-5:33:35:4:20:2:12\r\n",
      "NC_000016.10\t30382339\t.\tG\tA\t.\tPASS\tADP=36;WT=0;HET=1;HOM=0;NC=0\tGT:GQ:SDP:DP:RD:AD:FREQ:PVAL:RBQ:ABQ:RDF:RDR:ADF:ADR\t0/1:76:36:36:16:20:55.56%:2.3419E-8:35:29:4:12:5:15\r\n",
      "NC_000016.10\t30397444\t.\tC\tT\t.\tPASS\tADP=53;WT=0;HET=1;HOM=0;NC=0\tGT:GQ:SDP:DP:RD:AD:FREQ:PVAL:RBQ:ABQ:RDF:RDR:ADF:ADR\t0/1:100:53:53:26:27:50.94%:8.2728E-11:34:33:13:13:15:12\r\n",
      "NC_000016.10\t30484091\t.\tT\tC\t.\tPASS\tADP=97;WT=0;HET=1;HOM=0;NC=0\tGT:GQ:SDP:DP:RD:AD:FREQ:PVAL:RBQ:ABQ:RDF:RDR:ADF:ADR\t0/1:178:97:97:49:48:49.48%:1.3979E-18:34:35:21:28:33:15\r\n",
      "NC_000016.10\t30499250\t.\tC\tT\t.\tPASS\tADP=49;WT=0;HET=1;HOM=0;NC=0\tGT:GQ:SDP:DP:RD:AD:FREQ:PVAL:RBQ:ABQ:RDF:RDR:ADF:ADR\t0/1:93:49:49:24:25:51.02%:4.6489E-10:35:35:18:6:18:7\r\n",
      "NC_000016.10\t30516951\t.\tC\tA\t.\tPASS\tADP=32;WT=0;HET=1;HOM=0;NC=0\tGT:GQ:SDP:DP:RD:AD:FREQ:PVAL:RBQ:ABQ:RDF:RDR:ADF:ADR\t0/1:59:32:32:16:16:50%:1.2304E-6:35:35:11:5:11:5\r\n",
      "NC_000016.10\t30525597\t.\tC\tG\t.\tPASS\tADP=49;WT=0;HET=0;HOM=1;NC=0\tGT:GQ:SDP:DP:RD:AD:FREQ:PVAL:RBQ:ABQ:RDF:RDR:ADF:ADR\t1/1:255:49:49:0:49:100%:3.925E-29:0:35:0:0:22:27\r\n",
      "NC_000016.10\t30723642\t.\tC\tA\t.\tPASS\tADP=76;WT=0;HET=0;HOM=1;NC=0\tGT:GQ:SDP:DP:RD:AD:FREQ:PVAL:RBQ:ABQ:RDF:RDR:ADF:ADR\t1/1:255:76:76:0:76:100%:2.711E-45:0:30:0:0:44:32\r\n"
     ]
    }
   ],
   "source": [
    "#There could be multiple variants in this range, please select one.\n",
    "!cat ~/scratch/project/project3/SRR070501_pruned_chr16.vcf "
   ]
  },
  {
   "cell_type": "markdown",
   "id": "61d8ebbc",
   "metadata": {},
   "source": [
    "##### We selected the 4th variant\n",
    "> NC_000016.10\t21039887\t.\tG\tC\t.\tPASS\tADP=59;WT=0;HET=1;HOM=0;NC=0\tGT:GQ:SDP:DP:RD:AD:FREQ:PVAL:RBQ:ABQ:RDF:RDR:ADF:ADR\t0/1:112:59:59:29:30:50.85%:6.2104E-12:34:33:15:14:16:14"
   ]
  },
  {
   "cell_type": "code",
   "execution_count": 21,
   "id": "96c79a9f",
   "metadata": {},
   "outputs": [],
   "source": [
    "#The information is there in your VCF file."
   ]
  },
  {
   "cell_type": "markdown",
   "id": "bc7ffe99",
   "metadata": {},
   "source": [
    "###### The average depth of bases for this variant called on chromosome 16 is 50. We referred to 'AD' value (Depth of variant-supporting bases (reads2)) in the 'info' part of the above variant"
   ]
  },
  {
   "cell_type": "markdown",
   "id": "ea33031d",
   "metadata": {},
   "source": [
    "<div class=\"alert alert-block alert-warning\">\n",
    "    <h3>2.3 How many indels do you have in your VCF file?</p>\n",
    "</div>"
   ]
  },
  {
   "cell_type": "code",
   "execution_count": 1,
   "id": "0dab2c90",
   "metadata": {},
   "outputs": [
    {
     "name": "stdout",
     "output_type": "stream",
     "text": [
      "Only indels will be reported\n",
      "Warning: No p-value threshold provided, so p-values will not be calculated\n",
      "Min coverage:\t30\n",
      "Min reads2:\t10\n",
      "Min var freq:\t0.2\n",
      "Min avg qual:\t15\n",
      "P-value thresh:\t0.01\n",
      "Reading input from /home/hice1/akrishna311/scratch/project/project3/SRR070501.mpileup\n",
      "631429099 bases in pileup file\n",
      "18251 variant positions (17262 SNP, 989 indel)\n",
      "764 were failed by the strand-filter\n",
      "971 variant positions reported (0 SNP, 971 indel)\n"
     ]
    }
   ],
   "source": [
    "#Same as above, there are multiple ways of doing this.\n",
    "!varscan mpileup2indel ~/scratch/project/project3/SRR070501.mpileup --min-coverage 30 --min-reads2 10 --output-vcf > ~/scratch/project/project3/SRR070501_indels.vcf\n",
    "\n",
    "#!bcftools view -v indels --include INFO/INDEL ~/scratch/project/project3/SRR070501.vcf.bgz -o ~/scratch/project/project3/SRR070501_indels.vcf"
   ]
  },
  {
   "cell_type": "code",
   "execution_count": 2,
   "id": "c3f951a1",
   "metadata": {},
   "outputs": [
    {
     "name": "stdout",
     "output_type": "stream",
     "text": [
      "#CHROM\tPOS\tID\tREF\tALT\tQUAL\tFILTER\tINFO\tFORMAT\tSample1\r\n",
      "NC_000001.11\t6192905\t.\tCCA\tC\t.\tPASS\tADP=37;WT=0;HET=1;HOM=0;NC=0\tGT:GQ:SDP:DP:RD:AD:FREQ:PVAL:RBQ:ABQ:RDF:RDR:ADF:ADR\t0/1:52:37:37:22:15:40.54%:5.1339E-6:33:29:14:8:10:5\r\n",
      "NC_000001.11\t7801093\t.\tC\tCT\t.\tPASS\tADP=43;WT=0;HET=0;HOM=1;NC=0\tGT:GQ:SDP:DP:RD:AD:FREQ:PVAL:RBQ:ABQ:RDF:RDR:ADF:ADR\t1/1:206:43:43:3:40:93.02%:2.287E-21:35:35:3:0:35:5\r\n",
      "NC_000001.11\t7847745\t.\tC\tCT\t.\tPASS\tADP=66;WT=0;HET=1;HOM=0;NC=0\tGT:GQ:SDP:DP:RD:AD:FREQ:PVAL:RBQ:ABQ:RDF:RDR:ADF:ADR\t0/1:91:66:66:40:26:39.39%:6.8388E-10:35:36:24:16:10:16\r\n",
      "NC_000001.11\t9244919\t.\tCCCCAGGCA\tC\t.\tPASS\tADP=39;WT=0;HET=1;HOM=0;NC=0\tGT:GQ:SDP:DP:RD:AD:FREQ:PVAL:RBQ:ABQ:RDF:RDR:ADF:ADR\t0/1:48:39:39:25:14:35.9%:1.4735E-5:35:21:13:12:6:8\r\n",
      "NC_000001.11\t13779899\t.\tA\tACTC\t.\tPASS\tADP=61;WT=0;HET=0;HOM=1;NC=0\tGT:GQ:SDP:DP:RD:AD:FREQ:PVAL:RBQ:ABQ:RDF:RDR:ADF:ADR\t1/1:220:62:61:13:49:79.03%:8.3246E-23:34:33:5:8:28:21\r\n",
      "NC_000001.11\t16027938\t.\tA\tAT\t.\tPASS\tADP=35;WT=0;HET=1;HOM=0;NC=0\tGT:GQ:SDP:DP:RD:AD:FREQ:PVAL:RBQ:ABQ:RDF:RDR:ADF:ADR\t0/1:37:35:35:24:11:31.43%:1.9282E-4:32:26:11:13:4:7\r\n",
      "NC_000001.11\t16049735\t.\tA\tAT\t.\tPASS\tADP=31;WT=0;HET=1;HOM=0;NC=0\tGT:GQ:SDP:DP:RD:AD:FREQ:PVAL:RBQ:ABQ:RDF:RDR:ADF:ADR\t0/1:41:31:31:19:12:38.71%:6.5329E-5:33:25:11:8:8:4\r\n",
      "NC_000001.11\t21482438\t.\tA\tAT\t.\tPASS\tADP=102;WT=0;HET=1;HOM=0;NC=0\tGT:GQ:SDP:DP:RD:AD:FREQ:PVAL:RBQ:ABQ:RDF:RDR:ADF:ADR\t0/1:68:102:102:80:21:20.59%:1.4956E-7:34:35:51:29:10:11\r\n",
      "NC_000001.11\t29018497\t.\tC\tCTT\t.\tPASS\tADP=34;WT=0;HET=1;HOM=0;NC=0\tGT:GQ:SDP:DP:RD:AD:FREQ:PVAL:RBQ:ABQ:RDF:RDR:ADF:ADR\t0/1:107:34:34:9:25:73.53%:1.9819E-11:29:35:1:8:0:25\r\n",
      "grep: write error\r\n",
      "cat: write error: Broken pipe\r\n"
     ]
    }
   ],
   "source": [
    "#Write your command and show the number of indels.\n",
    "!cat ~/scratch/project/project3/SRR070501_indels.vcf | grep -v \"##\" | head"
   ]
  },
  {
   "cell_type": "code",
   "execution_count": 4,
   "id": "7ae51b40",
   "metadata": {},
   "outputs": [
    {
     "name": "stdout",
     "output_type": "stream",
     "text": [
      "971\r\n"
     ]
    }
   ],
   "source": [
    "#number of indels\n",
    "!cat ~/scratch/project/project3/SRR070501_indels.vcf | grep -v \"[##|#]\" | wc -l"
   ]
  },
  {
   "cell_type": "markdown",
   "id": "e36f85aa",
   "metadata": {},
   "source": [
    "<div class=\"alert alert-block alert-warning\">\n",
    "    <h3>2.4 Select any random variant in your VCF file which lies between the position 203,000,000 and 230,000,000 on chromosome 2.</h3>\n",
    "    <p><b>2.4.1</b> What is the variation observed for your 1000 genome individual at this position? Is it 0/0 1/1/ 0/1 or 1/0? How many copies of reference alleles does your individual carry at this position?</p>\n",
    "    <p><b>2.4.2</b> How many read bases (forward and reverse) from your pileup file (as selected by VarScan) supported the alternative allele and how many variants supported the reference allele at this position?</p>\n",
    "</div>"
   ]
  },
  {
   "cell_type": "code",
   "execution_count": 6,
   "id": "cd5a04bb",
   "metadata": {},
   "outputs": [
    {
     "name": "stdout",
     "output_type": "stream",
     "text": [
      "##fileformat=VCFv4.3\r\n",
      "##source=VarScan2\r\n",
      "##INFO=<ID=ADP,Number=1,Type=Integer,Description=\"Average per-sample depth of bases with Phred score >= 15\">\r\n",
      "##INFO=<ID=WT,Number=1,Type=Integer,Description=\"Number of samples called reference (wild-type)\">\r\n",
      "##INFO=<ID=HET,Number=1,Type=Integer,Description=\"Number of samples called heterozygous-variant\">\r\n",
      "##INFO=<ID=HOM,Number=1,Type=Integer,Description=\"Number of samples called homozygous-variant\">\r\n",
      "##INFO=<ID=NC,Number=1,Type=Integer,Description=\"Number of samples not called\">\r\n",
      "##FILTER=<ID=str10,Description=\"Less than 10% or more than 90% of variant supporting reads on one strand\">\r\n",
      "##FILTER=<ID=indelError,Description=\"Likely artifact due to indel reads at this position\">\r\n",
      "##FORMAT=<ID=GT,Number=1,Type=String,Description=\"Genotype\">\r\n",
      "##FORMAT=<ID=GQ,Number=1,Type=Integer,Description=\"Genotype Quality\">\r\n",
      "##FORMAT=<ID=SDP,Number=1,Type=Integer,Description=\"Raw Read Depth as reported by SAMtools\">\r\n",
      "##FORMAT=<ID=DP,Number=1,Type=Integer,Description=\"Quality Read Depth of bases with Phred score >= 15\">\r\n",
      "##FORMAT=<ID=RD,Number=1,Type=Integer,Description=\"Depth of reference-supporting bases (reads1)\">\r\n",
      "##FORMAT=<ID=AD,Number=1,Type=Integer,Description=\"Depth of variant-supporting bases (reads2)\">\r\n",
      "##FORMAT=<ID=FREQ,Number=1,Type=String,Description=\"Variant allele frequency\">\r\n",
      "##FORMAT=<ID=PVAL,Number=1,Type=String,Description=\"P-value from Fisher's Exact Test\">\r\n",
      "##FORMAT=<ID=RBQ,Number=1,Type=Integer,Description=\"Average quality of reference-supporting bases (qual1)\">\r\n",
      "##FORMAT=<ID=ABQ,Number=1,Type=Integer,Description=\"Average quality of variant-supporting bases (qual2)\">\r\n",
      "##FORMAT=<ID=RDF,Number=1,Type=Integer,Description=\"Depth of reference-supporting bases on forward strand (reads1plus)\">\r\n",
      "##FORMAT=<ID=RDR,Number=1,Type=Integer,Description=\"Depth of reference-supporting bases on reverse strand (reads1minus)\">\r\n",
      "##FORMAT=<ID=ADF,Number=1,Type=Integer,Description=\"Depth of variant-supporting bases on forward strand (reads2plus)\">\r\n",
      "##FORMAT=<ID=ADR,Number=1,Type=Integer,Description=\"Depth of variant-supporting bases on reverse strand (reads2minus)\">\r\n",
      "#CHROM\tPOS\tID\tREF\tALT\tQUAL\tFILTER\tINFO\tFORMAT\tSample1\r\n",
      "NC_000001.11\t6192905\t.\tCCA\tC\t.\tPASS\tADP=37;WT=0;HET=1;HOM=0;NC=0\tGT:GQ:SDP:DP:RD:AD:FREQ:PVAL:RBQ:ABQ:RDF:RDR:ADF:ADR\t0/1:52:37:37:22:15:40.54%:5.1339E-6:33:29:14:8:10:5\r\n",
      "NC_000001.11\t7801093\t.\tC\tCT\t.\tPASS\tADP=43;WT=0;HET=0;HOM=1;NC=0\tGT:GQ:SDP:DP:RD:AD:FREQ:PVAL:RBQ:ABQ:RDF:RDR:ADF:ADR\t1/1:206:43:43:3:40:93.02%:2.287E-21:35:35:3:0:35:5\r\n",
      "NC_000001.11\t7847745\t.\tC\tCT\t.\tPASS\tADP=66;WT=0;HET=1;HOM=0;NC=0\tGT:GQ:SDP:DP:RD:AD:FREQ:PVAL:RBQ:ABQ:RDF:RDR:ADF:ADR\t0/1:91:66:66:40:26:39.39%:6.8388E-10:35:36:24:16:10:16\r\n",
      "NC_000001.11\t9244919\t.\tCCCCAGGCA\tC\t.\tPASS\tADP=39;WT=0;HET=1;HOM=0;NC=0\tGT:GQ:SDP:DP:RD:AD:FREQ:PVAL:RBQ:ABQ:RDF:RDR:ADF:ADR\t0/1:48:39:39:25:14:35.9%:1.4735E-5:35:21:13:12:6:8\r\n",
      "NC_000001.11\t13779899\t.\tA\tACTC\t.\tPASS\tADP=61;WT=0;HET=0;HOM=1;NC=0\tGT:GQ:SDP:DP:RD:AD:FREQ:PVAL:RBQ:ABQ:RDF:RDR:ADF:ADR\t1/1:220:62:61:13:49:79.03%:8.3246E-23:34:33:5:8:28:21\r\n",
      "NC_000001.11\t16027938\t.\tA\tAT\t.\tPASS\tADP=35;WT=0;HET=1;HOM=0;NC=0\tGT:GQ:SDP:DP:RD:AD:FREQ:PVAL:RBQ:ABQ:RDF:RDR:ADF:ADR\t0/1:37:35:35:24:11:31.43%:1.9282E-4:32:26:11:13:4:7\r\n"
     ]
    }
   ],
   "source": [
    "#view the indels VCF file\n",
    "!head -30 ~/scratch/project/project3/SRR070501_indels.vcf"
   ]
  },
  {
   "cell_type": "code",
   "execution_count": 25,
   "id": "dc62c42d",
   "metadata": {},
   "outputs": [],
   "source": [
    "#Select the variant."
   ]
  },
  {
   "cell_type": "markdown",
   "id": "b6dc5465",
   "metadata": {},
   "source": [
    "###### We selected the 5th variant\n",
    ">NC_000001.11\t13779899\t.\tA\tACTC\t.\tPASS\tADP=61;WT=0;HET=0;HOM=1;NC=0\tGT:GQ:SDP:DP:RD:AD:FREQ:PVAL:RBQ:ABQ:RDF:RDR:ADF:ADR\t1/1:220:62:61:13:49:79.03%:8.3246E-23:34:33:5:8:28:21"
   ]
  },
  {
   "cell_type": "code",
   "execution_count": 26,
   "id": "f2f3591f",
   "metadata": {},
   "outputs": [],
   "source": [
    "#Variation observed and number of copies for reference allele."
   ]
  },
  {
   "cell_type": "markdown",
   "id": "25e8d197",
   "metadata": {},
   "source": [
    "<code> Ref allele </code> - A <br>\n",
    "<code> Alt allele </code> - ACTC <br>\n",
    "<code> variation observed </code> - 1/1 - it is alternate homozygous <br>\n",
    "<code> number of copies of ref allele </code> - 0 <br>"
   ]
  },
  {
   "cell_type": "code",
   "execution_count": 27,
   "id": "463efd14",
   "metadata": {},
   "outputs": [],
   "source": [
    "#Number of reads supporting the ref & alt allele."
   ]
  },
  {
   "cell_type": "markdown",
   "id": "c6a130a3",
   "metadata": {},
   "source": [
    "<code> read depth of ref allele </code> - 5+8 = 13(RDF+RDR) <br>\n",
    "<code> read depth of alt allele </code> - 28+21 = 49 (ADF+ADR) <br>"
   ]
  },
  {
   "cell_type": "markdown",
   "id": "9841242e",
   "metadata": {},
   "source": [
    "# **3. Filtering**\n",
    "### *Total Questions: 1*\n",
    "### *Total Points: 20 = 20*\n",
    "\n",
    "\n",
    "---"
   ]
  },
  {
   "cell_type": "markdown",
   "id": "63f0b0dc",
   "metadata": {},
   "source": [
    "<div class=\"alert alert-block alert-warning\">\n",
    "    <h3>3.1 Extract variants that have average per sample depth of > 50. </h3>\n",
    "    <p>Show your command and number of variants before and after</p>\n",
    "</div>"
   ]
  },
  {
   "cell_type": "code",
   "execution_count": 7,
   "id": "25322825",
   "metadata": {},
   "outputs": [
    {
     "name": "stdout",
     "output_type": "stream",
     "text": [
      "Min coverage:\t10\n",
      "Min reads2:\t51\n",
      "Min strands2:\t1\n",
      "Min var freq:\t0.2\n",
      "Min avg qual:\t15\n",
      "P-value thresh:\t0.1\n",
      "Reading input from /home/hice1/akrishna311/scratch/project/project3/SRR070501.vcf\n",
      "16516 entries in input stream\n",
      "0 had no genotype\n",
      "0 were called wild-type\n",
      "0 failed coverage\n",
      "14283 failed reads2\n",
      "3 failed strands\n",
      "0 failed quality\n",
      "0 failed variant frequency < 0.2\n",
      "0 failed P-value > 0.1\n",
      "0 were removed near indels\n",
      "2230 passed filters\n"
     ]
    }
   ],
   "source": [
    "!varscan filter ~/scratch/project/project3/SRR070501.vcf --min-reads2 51 --output-file ~/scratch/project/project3/SRR070501_filtered50.vcf"
   ]
  },
  {
   "cell_type": "code",
   "execution_count": 12,
   "id": "fbd3ade9",
   "metadata": {},
   "outputs": [
    {
     "name": "stdout",
     "output_type": "stream",
     "text": [
      "16516\n",
      "2230\n"
     ]
    }
   ],
   "source": [
    "!cat ~/scratch/project/project3/SRR070501.vcf | grep -v \"#\" | wc -l\n",
    "!cat ~/scratch/project/project3/SRR070501_filtered50.vcf | grep -v \"#\" | wc -l"
   ]
  },
  {
   "cell_type": "markdown",
   "id": "e0d91492",
   "metadata": {},
   "source": [
    "1. Number of variants before filtering - 16516\n",
    "2. Number of variants after filtering - 2230"
   ]
  }
 ],
 "metadata": {
  "kernelspec": {
   "display_name": "Python [conda env:biol6150]",
   "language": "python",
   "name": "conda-env-biol6150-py"
  },
  "language_info": {
   "codemirror_mode": {
    "name": "ipython",
    "version": 3
   },
   "file_extension": ".py",
   "mimetype": "text/x-python",
   "name": "python",
   "nbconvert_exporter": "python",
   "pygments_lexer": "ipython3",
   "version": "3.11.5"
  }
 },
 "nbformat": 4,
 "nbformat_minor": 5
}
