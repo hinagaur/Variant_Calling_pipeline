{
 "cells": [
  {
   "cell_type": "markdown",
   "id": "f13fe33e",
   "metadata": {},
   "source": [
    "![logo-gt.png](attachment:logo-gt.png)"
   ]
  },
  {
   "cell_type": "markdown",
   "id": "e53587e1",
   "metadata": {},
   "source": [
    "<div class=\"alert alert-block alert-info\">\n",
    "    <h1>BIOS 4150/BIOL 6150</h1>\n",
    "    <h3>Instructor: Dr. King Jordan</h3>\n",
    "    <p>TAs: Shivam Sharma (shivamsharma13@gatech.edu) & Vishva Natarajan (vishvanata@gatech.edu)</p>\n",
    "</div>"
   ]
  },
  {
   "cell_type": "markdown",
   "id": "4c342f3f",
   "metadata": {},
   "source": [
    "<div class=\"alert alert-block alert-warning\">\n",
    "    <h2>Project 1 (Data access & QC) starter notebook</h2>\n",
    "    <h3>Deadline: 12:00AM, October 20th, 2023</h3>\n",
    "</div>"
   ]
  },
  {
   "cell_type": "markdown",
   "id": "879a14ff",
   "metadata": {},
   "source": [
    "---"
   ]
  },
  {
   "cell_type": "markdown",
   "id": "f404ae11",
   "metadata": {},
   "source": [
    "# **1. Your assigned 1000 Genomes individual**\n",
    "### *Total Questions: 3*\n",
    "### *Total Points: 10+10+20 = 40*\n",
    "\n",
    "\n",
    "---"
   ]
  },
  {
   "cell_type": "markdown",
   "id": "69ff09a1",
   "metadata": {},
   "source": [
    "<div class=\"alert alert-block alert-warning\">\n",
    "    <h3>1.1 Does you group have an assigned individual ID from the 1000 Genomes Project?</h3>\n",
    "    <p>Find the individual on the international genomes website and paste a screenshot below</p>\n",
    "</div>"
   ]
  },
  {
   "cell_type": "markdown",
   "id": "9126886c",
   "metadata": {},
   "source": [
    "![HGPindividual.png](attachment:HGPindividual.png)"
   ]
  },
  {
   "cell_type": "markdown",
   "id": "aa82b622",
   "metadata": {},
   "source": [
    "\n",
    "<br>If screenshot is not visible, the images are also uploaded in the shared directory under group18 folder <br>\n"
   ]
  },
  {
   "cell_type": "markdown",
   "id": "cad8ccda",
   "metadata": {},
   "source": [
    "<div class=\"alert alert-block alert-warning\">\n",
    "    <h3>1.2 What population does you assigned individual belong to?</h3>\n",
    "    <p>Write about where the geographical location of where this individual lived at the time of recruitment? </p>\n",
    "</div>"
   ]
  },
  {
   "cell_type": "markdown",
   "id": "b30578fa",
   "metadata": {},
   "source": [
    "#Write about the individual and their ancestors here.\n",
    "\n",
    "Sex - Male <br> Population - Colombian in Medellin, Colombia, American Ancestry"
   ]
  },
  {
   "cell_type": "markdown",
   "id": "c9db3bcf",
   "metadata": {},
   "source": [
    "<div class=\"alert alert-block alert-warning\">\n",
    "    <h3>1.3 More about your individual's population?</h3>\n",
    "    <p>Read more about this population and write about their recent historical  (100-500 years) ancestors.</p>\n",
    "</div>"
   ]
  },
  {
   "cell_type": "markdown",
   "id": "0c14420c",
   "metadata": {},
   "source": [
    "#Write about the individual and their ancestors here.\n",
    "\n",
    "American Ancestry - American ancestry refers to people in the United States who self-identify their ancestral origin or descent as \"American\", rather than the more common officially recognized racial and ethnic groups that make up the bulk of the American people. The majority of these respondents are visibly White Americans, who are far removed from and no longer self-identify with their original ethnic ancestral origins. (Sourced from Wikipedia)"
   ]
  },
  {
   "cell_type": "markdown",
   "id": "1be29a73",
   "metadata": {},
   "source": [
    "# **2. Exome sequencing**\n",
    "### *Total Questions: 3*\n",
    "### *Total Points: 20+20= 40*\n",
    "\n",
    "\n",
    "---"
   ]
  },
  {
   "cell_type": "markdown",
   "id": "af2bb9d3",
   "metadata": {},
   "source": [
    "<div class=\"alert alert-block alert-warning\">\n",
    "    <h3>2.1 Does your assigned individual has exome sequencing data? If yes, then what is the SRR ID for that sequencing run?</h3>\n",
    "    <p>Does you individual have multiple SRR IDs? In case they do, which one would you pick? (Hint: The sequencing information is coming from the same individual; but larger file size might be more preferable)</p>\n",
    "</div>"
   ]
  },
  {
   "cell_type": "markdown",
   "id": "67882f4c",
   "metadata": {},
   "source": [
    "<div class=\"alert alert-block alert-danger\">\n",
    "    <h3>Multiple fastq files for your 1KGP individual</h3>\n",
    "    <p>On the FTP server, it is expected that you will have more than 1 pair of fastq files. What you need to decide on is which set of fastq files make the most sense. A few good checks are the size of the file (maybe 1-12GB), presence of an SRR ID, elimination of exceptionally small files etc. </p>\n",
    "    <p>If your team is still confused, please reach out to us regarding this.</p>\n",
    "</div>"
   ]
  },
  {
   "cell_type": "markdown",
   "id": "57acf999",
   "metadata": {},
   "source": [
    "#Write the SRR ID here along with your reasoning for selection.\n",
    "\n",
    "1000Genome Phase 3 release for individual HG01112 had 2 different SRR IDs -\n",
    "1. SRR070501\n",
    "2. SRR070794\n",
    "\n",
    "Both of them had both single-end and paired-end reads and approximately the same size. Initially, we picked SRR070794 which had slightly larger file size for paired-end reads(4.05GB) compared to SRR070501(4.00GB). However, after running the QC for both the \n",
    "SRRs we found SRR070501 had better quality reads and hence we went ahead with SRR070501."
   ]
  },
  {
   "cell_type": "markdown",
   "id": "fca94a31",
   "metadata": {},
   "source": [
    "<div class=\"alert alert-block alert-warning\">\n",
    "    <h3>2.2 Looking at just the exome sequencing of this individual, how many variants would you expect them to carry compared to the reference genome?</h3>\n",
    "    <p>Keep in mind this is 1 individual, and learn about the expected number of variants from WGS, WES, and Genotyping</p>\n",
    "</div>"
   ]
  },
  {
   "cell_type": "markdown",
   "id": "652df902",
   "metadata": {},
   "source": [
    "#Write about the variant information here. <br>\n",
    "<br> Even though there is a lot of variability in the number of variants based on the read depth, quality of reads, a typical WES dataset contains around 100k to 130k to  variants for an individual. However, we will need to perform variant calling in order to get an idea of the exact number of variants."
   ]
  },
  {
   "cell_type": "markdown",
   "id": "9190c760",
   "metadata": {},
   "source": [
    "# **3. Data access**\n",
    "### *Total Questions: 3*\n",
    "### *Total Points: 20+20 = 40*\n",
    "\n",
    "\n",
    "---"
   ]
  },
  {
   "cell_type": "markdown",
   "id": "be2163af",
   "metadata": {},
   "source": [
    "<div class=\"alert alert-block alert-warning\">\n",
    "    <h3>3.1 Download the exome sequencing data for this individual and write the size of the files?</h3>\n",
    "    <p>3.1.1 How many files do you have? Is the sequencing paired?</p>\n",
    "    <p>3.1.2 How many reads are present in each file? </p>\n",
    "</div>"
   ]
  },
  {
   "cell_type": "code",
   "execution_count": null,
   "id": "d53ef9ee",
   "metadata": {},
   "outputs": [],
   "source": [
    "#Show you download commamd.\n",
    "!wget ftp://ftp.1000genomes.ebi.ac.uk/vol1/ftp/phase3/data/HG01112/sequence_read/SRR070501_1.filt.fastq.gz\n",
    "!wget ftp://ftp.1000genomes.ebi.ac.uk/vol1/ftp/phase3/data/HG01112/sequence_read/SRR070501_2.filt.fastq.gz"
   ]
  },
  {
   "cell_type": "code",
   "execution_count": null,
   "id": "38fdc7cf",
   "metadata": {},
   "outputs": [],
   "source": [
    "!mkdir ~/scratch/project1"
   ]
  },
  {
   "cell_type": "code",
   "execution_count": 2,
   "id": "9da7ba3a",
   "metadata": {},
   "outputs": [],
   "source": [
    "#Move the files to an appropriate place and 'ls' that directory. We want to see the file names and the file sizes\n",
    "!mv SRR070501_1.filt.fastq.gz ~/scratch/project1\n",
    "!mv SRR070501_2.filt.fastq.gz ~/scratch/project1"
   ]
  },
  {
   "cell_type": "code",
   "execution_count": null,
   "id": "5768ba5b",
   "metadata": {},
   "outputs": [],
   "source": [
    "!ls -l ~/scratch/project1\n",
    "\n",
    "# We also ran md5sum command to verify if the downloaded file was complete and compared it with the checksum provided on 1000genome website\n",
    "# SRR070501_1.filt.fastq.gz - d95922be89b82ee36a40b9654d52ed1b\n",
    "# SRR070501_2.filt.fastq.gz - ee67144c72a8d628ea71368188548c54\n",
    "\n",
    "#!md5sum ~/scratch/project1/SRR070501_1.filt.fastq.gz\n",
    "#d95922be89b82ee36a40b9654d52ed1b  SRR070501_1.filt.fastq.gz\n",
    "\n",
    "#!md5sum ~/scratch/project1/SRR070501_2.filt.fastq.gz\n",
    "#ee67144c72a8d628ea71368188548c54  SRR070501_2.filt.fastq.gz"
   ]
  },
  {
   "cell_type": "code",
   "execution_count": null,
   "id": "8716151e",
   "metadata": {},
   "outputs": [],
   "source": [
    "#Write about the fastq file here.\n",
    "!zcat ~/scratch/project1/SRR070501_1.filt.fastq.gz | head\n",
    "!echo \"--------------------------------------------------------------\"\n",
    "!zcat ~/scratch/project1/SRR070501_2.filt.fastq.gz | head"
   ]
  },
  {
   "cell_type": "code",
   "execution_count": null,
   "id": "7f8110c2",
   "metadata": {},
   "outputs": [],
   "source": [
    "#Write about the fastq file here.\n",
    "# The fastq file will contain -\n",
    "# 1. A sequence identifier with information about the sequencing run.\n",
    "# 2. The sequence(the base calls; A, C, T, G and N).\n",
    "# 3. A separator, which is simply a plus (+) sign.\n",
    "# 4. The base call . These are Phred +33 encoded, using ASCII characters to represent the numerical quality scores.\n",
    "# 5. The total reads present in forward read: 23722412 ,reverse read: 23722412 \n",
    "!zcat ~/scratch/project1/SRR070501_1.filt.fastq.gz | grep \"^@SRR\" | head\n",
    "!zcat ~/scratch/project1/SRR070501_2.filt.fastq.gz | grep \"^@SRR\" | head"
   ]
  },
  {
   "cell_type": "markdown",
   "id": "883898ab",
   "metadata": {},
   "source": [
    "# **4. Pre-QC with FastQC**\n",
    "### *Total Questions: 2*\n",
    "### *Total Points: 20+20+20 = 60*\n",
    "\n",
    "\n",
    "---"
   ]
  },
  {
   "cell_type": "markdown",
   "id": "ce2355a7",
   "metadata": {},
   "source": [
    "<div class=\"alert alert-block alert-warning\">\n",
    "    <h3>4.1 Show your exact command below.</h3>\n",
    "</div>"
   ]
  },
  {
   "cell_type": "code",
   "execution_count": 1,
   "id": "714f8eab",
   "metadata": {},
   "outputs": [
    {
     "name": "stdout",
     "output_type": "stream",
     "text": [
      "application/gzip\n",
      "application/gzip\n",
      "Started analysis of SRR070501_1.filt.fastq.gz\n",
      "Approx 5% complete for SRR070501_1.filt.fastq.gz\n",
      "Approx 10% complete for SRR070501_1.filt.fastq.gz\n",
      "Approx 15% complete for SRR070501_1.filt.fastq.gz\n",
      "Approx 20% complete for SRR070501_1.filt.fastq.gz\n",
      "Approx 25% complete for SRR070501_1.filt.fastq.gz\n",
      "Approx 30% complete for SRR070501_1.filt.fastq.gz\n",
      "Approx 35% complete for SRR070501_1.filt.fastq.gz\n",
      "Approx 40% complete for SRR070501_1.filt.fastq.gz\n",
      "Approx 45% complete for SRR070501_1.filt.fastq.gz\n",
      "Approx 50% complete for SRR070501_1.filt.fastq.gz\n",
      "Approx 55% complete for SRR070501_1.filt.fastq.gz\n",
      "Approx 60% complete for SRR070501_1.filt.fastq.gz\n",
      "Approx 65% complete for SRR070501_1.filt.fastq.gz\n",
      "Approx 70% complete for SRR070501_1.filt.fastq.gz\n",
      "Approx 75% complete for SRR070501_1.filt.fastq.gz\n",
      "Approx 80% complete for SRR070501_1.filt.fastq.gz\n",
      "Approx 85% complete for SRR070501_1.filt.fastq.gz\n",
      "Approx 90% complete for SRR070501_1.filt.fastq.gz\n",
      "Approx 95% complete for SRR070501_1.filt.fastq.gz\n",
      "Analysis complete for SRR070501_1.filt.fastq.gz\n",
      "Started analysis of SRR070501_2.filt.fastq.gz\n",
      "Approx 5% complete for SRR070501_2.filt.fastq.gz\n",
      "Approx 10% complete for SRR070501_2.filt.fastq.gz\n",
      "Approx 15% complete for SRR070501_2.filt.fastq.gz\n",
      "Approx 20% complete for SRR070501_2.filt.fastq.gz\n",
      "Approx 25% complete for SRR070501_2.filt.fastq.gz\n",
      "Approx 30% complete for SRR070501_2.filt.fastq.gz\n",
      "Approx 35% complete for SRR070501_2.filt.fastq.gz\n",
      "Approx 40% complete for SRR070501_2.filt.fastq.gz\n",
      "Approx 45% complete for SRR070501_2.filt.fastq.gz\n",
      "Approx 50% complete for SRR070501_2.filt.fastq.gz\n",
      "Approx 55% complete for SRR070501_2.filt.fastq.gz\n",
      "Approx 60% complete for SRR070501_2.filt.fastq.gz\n",
      "Approx 65% complete for SRR070501_2.filt.fastq.gz\n",
      "Approx 70% complete for SRR070501_2.filt.fastq.gz\n",
      "Approx 75% complete for SRR070501_2.filt.fastq.gz\n",
      "Approx 80% complete for SRR070501_2.filt.fastq.gz\n",
      "Approx 85% complete for SRR070501_2.filt.fastq.gz\n",
      "Approx 90% complete for SRR070501_2.filt.fastq.gz\n",
      "Approx 95% complete for SRR070501_2.filt.fastq.gz\n",
      "Analysis complete for SRR070501_2.filt.fastq.gz\n"
     ]
    }
   ],
   "source": [
    "#Command here.\n",
    "!mkdir -p ~/scratch/project1/fastqc_before_trimming\n",
    "!mkdir -p ~/scratch/project1/trimming\n",
    "!mkdir -p ~/scratch/project1/fastqc_after_trimming\n",
    "\n",
    "!fastqc -o ~/scratch/project1/fastqc_before_trimming ~/scratch/project1/SRR070501_1.filt.fastq.gz ~/scratch/project1/SRR070501_2.filt.fastq.gz"
   ]
  },
  {
   "cell_type": "markdown",
   "id": "afe25fb4",
   "metadata": {},
   "source": [
    "<div class=\"alert alert-block alert-warning\">\n",
    "    <h3>4.2 Show <i>per base sequencing quality</i>?</h3>\n",
    "    <p>Add a screenshot below</p>\n",
    "</div>"
   ]
  },
  {
   "cell_type": "markdown",
   "id": "a1e16b95",
   "metadata": {},
   "source": [
    "per base sequencing quality for forward read before qc\n",
    "\n",
    "![PBSQ_beforeQC.png](attachment:PBSQ_beforeQC.png)"
   ]
  },
  {
   "cell_type": "markdown",
   "id": "598fb7e9",
   "metadata": {},
   "source": [
    "per base sequence quality for reverse read before qc\n",
    "![PBSQ_beforeQC2.png](attachment:PBSQ_beforeQC2.png)"
   ]
  },
  {
   "cell_type": "markdown",
   "id": "07530108",
   "metadata": {},
   "source": [
    "<div class=\"alert alert-block alert-warning\">\n",
    "    <h3>4.3 Show <i>Per base sequence content</i>?</h3>\n",
    "    <p>Add a screenshot below</p>\n",
    "</div>"
   ]
  },
  {
   "cell_type": "markdown",
   "id": "1311f9da",
   "metadata": {},
   "source": [
    "per base sequence content for forward read before qc\n",
    "![PBSC_beforeQC.png](attachment:PBSC_beforeQC.png)"
   ]
  },
  {
   "cell_type": "markdown",
   "id": "b9227838",
   "metadata": {},
   "source": [
    "per base sequence content for reverse read before qc\n",
    "![PBSC_beforeQC2.png](attachment:PBSC_beforeQC2.png)\n",
    "\n",
    "# **5. Trimming with fastp or trimmmomatic**\n",
    "### *Total Questions: 3*\n",
    "### *Total Points: 20+20+20 = 60*\n",
    "\n",
    "\n",
    "---"
   ]
  },
  {
   "cell_type": "markdown",
   "id": "792ded3a",
   "metadata": {},
   "source": [
    "<div class=\"alert alert-block alert-warning\">\n",
    "    <h3>5.1 What was the tools and command you used?</h3>\n",
    "    <p>Write the tool name and exact command below</p>\n",
    "</div>"
   ]
  },
  {
   "cell_type": "markdown",
   "id": "22e21c75",
   "metadata": {},
   "source": [
    "We used fastp for trimming"
   ]
  },
  {
   "cell_type": "code",
   "execution_count": 2,
   "id": "13ed5873",
   "metadata": {},
   "outputs": [
    {
     "name": "stdout",
     "output_type": "stream",
     "text": [
      "Read1 before filtering:\n",
      "total reads: 23722412\n",
      "total bases: 2372241200\n",
      "Q20 bases: 2140979447(90.2513%)\n",
      "Q30 bases: 1979960362(83.4637%)\n",
      "\n",
      "Read2 before filtering:\n",
      "total reads: 23722412\n",
      "total bases: 2372241200\n",
      "Q20 bases: 2147496408(90.5261%)\n",
      "Q30 bases: 1975524098(83.2767%)\n",
      "\n",
      "Read1 after filtering:\n",
      "total reads: 21179531\n",
      "total bases: 1630140066\n",
      "Q20 bases: 1562596318(95.8566%)\n",
      "Q30 bases: 1462407501(89.7105%)\n",
      "\n",
      "Read2 after filtering:\n",
      "total reads: 21179531\n",
      "total bases: 1630140066\n",
      "Q20 bases: 1562595186(95.8565%)\n",
      "Q30 bases: 1451537439(89.0437%)\n",
      "\n",
      "Filtering result:\n",
      "reads passed filter: 42359062\n",
      "reads failed due to low quality: 5081638\n",
      "reads failed due to too many N: 4124\n",
      "reads failed due to too short: 0\n",
      "reads with adapter trimmed: 189186\n",
      "bases trimmed due to adapters: 1484716\n",
      "\n",
      "Duplication rate: 1.23928%\n",
      "\n",
      "Insert size peak (evaluated by paired-end reads): 149\n",
      "\n",
      "JSON report: fastp.json\n",
      "HTML report: fastp.html\n",
      "\n",
      "fastp -i /home/hice1/akrishna311/scratch/project1_test/SRR070501_1.filt.fastq.gz -I /home/hice1/akrishna311/scratch/project1_test/SRR070501_2.filt.fastq.gz -o /home/hice1/akrishna311/scratch/project1_test/trimming/SRR070501_1_trimmed.fastq.gz -O /home/hice1/akrishna311/scratch/project1_test/trimming/SRR070501_2_trimmed.fastq.gz -f 13 -t 10 \n",
      "fastp v0.23.4, time used: 69 seconds\n"
     ]
    }
   ],
   "source": [
    "#Exact command here\n",
    "!fastp \\\n",
    "-i ~/scratch/project1/SRR070501_1.filt.fastq.gz \\\n",
    "-I ~/scratch/project1/SRR070501_2.filt.fastq.gz \\\n",
    "-o ~/scratch/project1/trimming/SRR070501_1_trimmed.fastq.gz \\\n",
    "-O ~/scratch/project1/trimming/SRR070501_2_trimmed.fastq.gz \\\n",
    "-f 13 \\\n",
    "-t 10"
   ]
  },
  {
   "cell_type": "markdown",
   "id": "1fb95eaf",
   "metadata": {},
   "source": [
    "<div class=\"alert alert-block alert-warning\">\n",
    "    <h3>5.2 How did you perform the trimming?</h3>\n",
    "    <p>Did you use dynamic built in features or hard coded parameters?</p>\n",
    "    <p>Did you have to go back and repeat the trimming after run(s) for <b>postQC?</b></p>\n",
    "</div>"
   ]
  },
  {
   "cell_type": "markdown",
   "id": "56873c64",
   "metadata": {},
   "source": [
    "\n",
    "We checked the QC results after running fastqc and decided the reads to be trimmed and hardcoded the values (13 bases from the beginning and 10 from the end). We did not have to revisit trimming step as the results were good after trimming the first time.\n"
   ]
  },
  {
   "cell_type": "markdown",
   "id": "257bbac7",
   "metadata": {},
   "source": [
    "<div class=\"alert alert-block alert-warning\">\n",
    "    <h3>5.3 What percentage of reads did you lose in the trimming process?</h3>\n",
    "    <p>5.3.1 Write the total number of reads before and after trimming</p>\n",
    "    <p>5.3.2 If you had a paired fastq file, are there any reads after trimming present in one file and not the other? (eg: present in reverse but not in forward?)</p>\n",
    "    \n",
    "</div>"
   ]
  },
  {
   "cell_type": "markdown",
   "id": "eafa47d1",
   "metadata": {},
   "source": [
    "#Before trimming:\n",
    "Read1 total reads: 23722412\n",
    "Read2 total reads: 23722412\n",
    "\n",
    "#After trimming:\n",
    "Read1 total reads: 21179531\n",
    "Read2 total reads: 21179531\n",
    "\n",
    "Percentage of reads lost after trimming for both reads = (before trimming - after trimming)/before trimming * 100 = 10.72%"
   ]
  },
  {
   "cell_type": "code",
   "execution_count": 3,
   "id": "392ac82c",
   "metadata": {},
   "outputs": [],
   "source": [
    "#We are grepping for header lines until the \"\"/{number}\"\" to compare the reads present in both the files. \n",
    "!zcat ~/scratch/project1/trimming/SRR070501_1_trimmed.fastq.gz | grep -Eo \"^@SRR.*\\/\" > ~/scratch/project1/trimming/headers1.txt\n",
    "!zcat ~/scratch/project1/trimming/SRR070501_2_trimmed.fastq.gz | grep -Eo \"^@SRR.*\\/\" > ~/scratch/project1/trimming/headers2.txt\n",
    "\n",
    "#No output from the below command means that there are no reads that are unique to either files\n",
    "!comm -3 <(sort ~/scratch/project1/trimming/headers1.txt) <(sort ~/scratch/project1/trimming/headers2.txt) "
   ]
  },
  {
   "cell_type": "markdown",
   "id": "37e3612c",
   "metadata": {},
   "source": [
    "# **6. Post-QC with FastQC?**\n",
    "### *Total Questions: 2*\n",
    "### *Total Points: 20+20+20 = 60*\n",
    "\n",
    "\n",
    "---"
   ]
  },
  {
   "cell_type": "markdown",
   "id": "f53ed1f0",
   "metadata": {},
   "source": [
    "<div class=\"alert alert-block alert-warning\">\n",
    "    <h3>6.1 Show your exact command below.</h3>\n",
    "</div>"
   ]
  },
  {
   "cell_type": "code",
   "execution_count": 4,
   "id": "77128fd1",
   "metadata": {},
   "outputs": [
    {
     "name": "stdout",
     "output_type": "stream",
     "text": [
      "application/gzip\n",
      "application/gzip\n",
      "Started analysis of SRR070501_1_trimmed.fastq.gz\n",
      "Approx 5% complete for SRR070501_1_trimmed.fastq.gz\n",
      "Approx 10% complete for SRR070501_1_trimmed.fastq.gz\n",
      "Approx 15% complete for SRR070501_1_trimmed.fastq.gz\n",
      "Approx 20% complete for SRR070501_1_trimmed.fastq.gz\n",
      "Approx 25% complete for SRR070501_1_trimmed.fastq.gz\n",
      "Approx 30% complete for SRR070501_1_trimmed.fastq.gz\n",
      "Approx 35% complete for SRR070501_1_trimmed.fastq.gz\n",
      "Approx 40% complete for SRR070501_1_trimmed.fastq.gz\n",
      "Approx 45% complete for SRR070501_1_trimmed.fastq.gz\n",
      "Approx 50% complete for SRR070501_1_trimmed.fastq.gz\n",
      "Approx 55% complete for SRR070501_1_trimmed.fastq.gz\n",
      "Approx 60% complete for SRR070501_1_trimmed.fastq.gz\n",
      "Approx 65% complete for SRR070501_1_trimmed.fastq.gz\n",
      "Approx 70% complete for SRR070501_1_trimmed.fastq.gz\n",
      "Approx 75% complete for SRR070501_1_trimmed.fastq.gz\n",
      "Approx 80% complete for SRR070501_1_trimmed.fastq.gz\n",
      "Approx 85% complete for SRR070501_1_trimmed.fastq.gz\n",
      "Approx 90% complete for SRR070501_1_trimmed.fastq.gz\n",
      "Approx 95% complete for SRR070501_1_trimmed.fastq.gz\n",
      "Analysis complete for SRR070501_1_trimmed.fastq.gz\n",
      "Started analysis of SRR070501_2_trimmed.fastq.gz\n",
      "Approx 5% complete for SRR070501_2_trimmed.fastq.gz\n",
      "Approx 10% complete for SRR070501_2_trimmed.fastq.gz\n",
      "Approx 15% complete for SRR070501_2_trimmed.fastq.gz\n",
      "Approx 20% complete for SRR070501_2_trimmed.fastq.gz\n",
      "Approx 25% complete for SRR070501_2_trimmed.fastq.gz\n",
      "Approx 30% complete for SRR070501_2_trimmed.fastq.gz\n",
      "Approx 35% complete for SRR070501_2_trimmed.fastq.gz\n",
      "Approx 40% complete for SRR070501_2_trimmed.fastq.gz\n",
      "Approx 45% complete for SRR070501_2_trimmed.fastq.gz\n",
      "Approx 50% complete for SRR070501_2_trimmed.fastq.gz\n",
      "Approx 55% complete for SRR070501_2_trimmed.fastq.gz\n",
      "Approx 60% complete for SRR070501_2_trimmed.fastq.gz\n",
      "Approx 65% complete for SRR070501_2_trimmed.fastq.gz\n",
      "Approx 70% complete for SRR070501_2_trimmed.fastq.gz\n",
      "Approx 75% complete for SRR070501_2_trimmed.fastq.gz\n",
      "Approx 80% complete for SRR070501_2_trimmed.fastq.gz\n",
      "Approx 85% complete for SRR070501_2_trimmed.fastq.gz\n",
      "Approx 90% complete for SRR070501_2_trimmed.fastq.gz\n",
      "Approx 95% complete for SRR070501_2_trimmed.fastq.gz\n",
      "Analysis complete for SRR070501_2_trimmed.fastq.gz\n"
     ]
    }
   ],
   "source": [
    "#command here\n",
    "!fastqc -o ~/scratch/project1/fastqc_after_trimming ~/scratch/project1/trimming/SRR070501_1_trimmed.fastq.gz ~/scratch/project1/trimming/SRR070501_2_trimmed.fastq.gz"
   ]
  },
  {
   "cell_type": "markdown",
   "id": "f41fbb01",
   "metadata": {},
   "source": [
    "<div class=\"alert alert-block alert-warning\">\n",
    "    <h3>6.2 Show <i>per base sequencing quality</h3>\n",
    "    <p>If the quality was falling below 20 for certain regions then trim it. Add a screenshot below</p>\n",
    "</div>"
   ]
  },
  {
   "cell_type": "markdown",
   "id": "59d297de",
   "metadata": {},
   "source": [
    "per base sequencing quality for forward read after qc\n",
    "![PBSQ_afterQC.png](attachment:PBSQ_afterQC.png)"
   ]
  },
  {
   "cell_type": "markdown",
   "id": "e863ecc3",
   "metadata": {},
   "source": [
    "per base sequencing quality for reverse read after qc\n",
    "![PBSQ_afterQC2.png](attachment:PBSQ_afterQC2.png)"
   ]
  },
  {
   "cell_type": "markdown",
   "id": "f5d2678d",
   "metadata": {},
   "source": [
    "<div class=\"alert alert-block alert-warning\">\n",
    "    <h3>6.3 Show <i>Per base sequence content</i>?</h3>\n",
    "    <p>Ideally we shouldn't see adapters at the beginning of the reads in the fastq files. Add a screenshot below</p>\n",
    "</div>"
   ]
  },
  {
   "cell_type": "markdown",
   "id": "75e9a9a0",
   "metadata": {},
   "source": [
    "per base sequence content for forward read after qc \n",
    "![PBSC_afterQC.png](attachment:PBSC_afterQC.png)"
   ]
  },
  {
   "cell_type": "markdown",
   "id": "36a195ea",
   "metadata": {},
   "source": [
    "per base sequence content for reverse read after qc\n",
    "![PBSC_afterQC2.png](attachment:PBSC_afterQC2.png)"
   ]
  },
  {
   "cell_type": "code",
   "execution_count": null,
   "id": "3a193789",
   "metadata": {},
   "outputs": [],
   "source": []
  }
 ],
 "metadata": {
  "kernelspec": {
   "display_name": "Python 3 (ipykernel)",
   "language": "python",
   "name": "python3"
  },
  "language_info": {
   "codemirror_mode": {
    "name": "ipython",
    "version": 3
   },
   "file_extension": ".py",
   "mimetype": "text/x-python",
   "name": "python",
   "nbconvert_exporter": "python",
   "pygments_lexer": "ipython3",
   "version": "3.9.12"
  }
 },
 "nbformat": 4,
 "nbformat_minor": 5
}
